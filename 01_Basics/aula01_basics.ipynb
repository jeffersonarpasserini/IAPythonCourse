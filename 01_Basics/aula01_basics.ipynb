{
 "cells": [
  {
   "attachments": {},
   "cell_type": "markdown",
   "metadata": {},
   "source": [
    "# Aula01 - Introdução ao Python\n",
    "\n",
    "## Python\n",
    "\n",
    "Python é uma linguagem de programação interpretada, orientada a objetos, de alto nível e com semântica dinâmica. A simplicidade do python reduz a manutenção de um programa.\n",
    "A linguagem suporta módulos e pacotes, que encoraja a modularização e o reuso de códigos.\n",
    "\n",
    "É uma das linguagens  que mais tem crescido devido a sua compatibilidade e capacidade de auxiliar outras linguagens, é também um das  linguagens mais populares entre a comundade de análise de dados e a comunidade cientifica.\n",
    "\n",
    "## História do Python\n",
    "\n",
    "A linguagem Python foi criada em 1990 por Guido Van Rossum no Centro de Matemática Stichting (CWI - http://www.cwi.nl) na Holanda como sucessora da linguagem ABC. Guido é lembrado como o principal autor do Python, mas outros programadores ajudaram com muitas contribuições.\n",
    "\n",
    "A linguagem ABC foi desenhada para o uso de não programadores, mas logo de início mostrou certas limitações e restrições, a grande reclamação era a presença de regras arbitrárias que geralmente eram utilizadas em linguagens de baixo nível.\n",
    "\n",
    "O Python surigiu para que fosse uma linguagem simples que possuísse algumas das melhores propriedades da linguagem ABC. Listas, dicionários, declarações básicas e uso obrigatório de identação diferenciam a linguagem Python da linguagem ABC.\n",
    "\n",
    "Em 1995, Guido continuou seu trabalho em Python na Corporation for National Research Initiatives (CNRI, http://cnri.reston.va.us). Em 2000 o time de desenvolvimento da linguagem foram para a BeOpen Python Labs (http://beopen.com), no mesmo ano mudaram-se para a Digital Creations, hoje Zope Corporation (http://www.zope.org).\n",
    "\n",
    "Em 2001 foi fundada a Python Software Fundation (PSF - http://www.python.org/psf/), uma organização sem fins lucrativos fundada para manter a lingaugem e hoje detem sua propriedade intelectual.\n",
    "\n",
    "Todos os lançamentos de novos releases da linguagem Python são de código aberto."
   ]
  },
  {
   "attachments": {},
   "cell_type": "markdown",
   "metadata": {},
   "source": [
    "![Python](img/python.jpeg)"
   ]
  },
  {
   "attachments": {},
   "cell_type": "markdown",
   "metadata": {},
   "source": [
    "## Interpretador\n",
    "\n",
    "Você já deve ter ouvido falar que a linguagem Python é interpretada ou uma linguagem de script. em certo sentido pode-se afirmar que é uma linguagem interpretada, mas na verdade a forma de execução de programas python atualmente assemelha-se a forma de execução da linguagem Java.\n",
    "\n",
    "O interpretador faz a tradução em tempo real para código de máquina, ou seja, em tempo de execução. Já um compilador traduz o programa inteiro em código de máquina em uma única vez, gerando um relatório de erros caso existam ou gerando o programa que pode ser rodado (executável).\n",
    "\n",
    "O  Python é uma linguagem interpretada mas como o Java, passa por um processo de compilação gerando um bytecode e depois é interpretado por uma máquina virtual.\n",
    "\n",
    "## É possível compilar o Python ?\n",
    "\n",
    "Existem implementações de compiladores para Python como o Cpython, Cython, Jython, IronPython ou PyPy. A diferença entre elas é o compilador.\n",
    "\n",
    "o Cpython é o compilador oficial da linguagem Python quando você a utiliza por padrão. O Cython converte a linguagem Python para C++e utiliza o compilador desta linguagem para gerar o executável, mas para ser eficiente deve adaptar o código python original.\n",
    "\n",
    "O Jython gera bytecode a partir do Python para ser executado na JVM (Java Virtual Machine) e o IronPython em uma máquina virtual .Net.\n",
    "\n",
    "O PyPy é uma implmentação escrita em python que possui uma Virtual Machine Python sendo mais veloz que o CPython origianl e vem com a tecnologia JIT (Just in Time) que já traduz o código fonte em linguagem de máquina.\n",
    "\n",
    "## Modo Script ou Interativo\n",
    "\n",
    "Para utilizar o modo interativo você deve abrir o terminal do seu sistema operacional e rodar o python. Por exemplo:\n",
    "\n",
    "**C:\\python**\n",
    "\n",
    "Você terá acesso ao prompt do Python para a digitação de suas instruções:\n",
    "\n",
    "![Prompt Python](img/python_prompt.jpg)\n",
    "\n",
    "No modo script você pode utilizar qualquer editor de texto para escrever o seu código python gerando um arquivo com a extensão .py. Pode utilizar qualquer IDE que desejar como o PyCharm, VSCode, Spyder entre outras existentes no mercado.\n"
   ]
  },
  {
   "cell_type": "code",
   "execution_count": 1,
   "metadata": {},
   "outputs": [
    {
     "name": "stdout",
     "output_type": "stream",
     "text": [
      "0\n",
      "1\n",
      "2\n",
      "3\n",
      "4\n"
     ]
    }
   ],
   "source": [
    "for x in range(5):\n",
    "    print(x)"
   ]
  },
  {
   "attachments": {},
   "cell_type": "markdown",
   "metadata": {},
   "source": [
    "## Introdução as declarações em Python\n",
    "\n",
    "faremos uma rápida visão geral das declarações do Python. Esta palestra enfatizará as diferenças entre Python e outros idiomas, como o C++. \n",
    "\n",
    "Existem duas razões pelas quais tomamos essa abordagem para aprender o contexto das declarações de Python:\n",
    "\n",
    "    1) Se você vem de uma linguagem diferente, isso acelerará rapidamente sua compreensão sobre o Python. \n",
    "\n",
    "    2) Aprender sobre declarações permitirá que você possa ler outras linguagens com mais facilidade no futuro.\n",
    "\n",
    "# Python vs outras linguagens\n",
    "\n",
    "Vamos criar uma declaração simples que diga: Se a é maior que b, atribua 2 a \"a\" e 4 a \"b\"\n",
    "\n",
    "Veja essas duas afirmações if (a frente veremos melhor a sintaxe do if):\n",
    "\n",
    "Outras Linguagens:\n",
    "\n",
    "if (a > b) {\n",
    "    a=2;\n",
    "    b=4;\n",
    "} \n",
    "\n",
    "em Python:\n",
    "\n",
    "if a > b:\n",
    "    a=2\n",
    "    b=4\n",
    "\n",
    "Você notará que o Python está menos confuso e muito mais legível do que a primeira versão.\n",
    "\n",
    "Como o Python gerencia isso ?\n",
    "\n",
    "Vejamos as diferenças:\n",
    "    O Python se livra de () - parenteses e {} - chaves incorporando dois fatores principais: os \":\"  - dois pontos e os espaços em branco.\n",
    "\n",
    "    A declaração é terminada com dois pontos e o espaço em branco é usado (recuo) para descrever o que ocorre no caso da declaração.\n",
    "    \n",
    "    Outra grande diferença é a falta de ponto e vírgula em Python. Eles são usados p​ ara denotar terminações de declaração em muitos outros idiomas, mas em Python, o final de uma linha é o mesmo que o final de uma declaração.\n",
    "    \n",
    "    Por fim, para terminar esta breve visão geral das diferenças, vamos examinar mais de perto a sintaxe de indentação em Python vs outras linguagens.\n",
    "\n",
    "# Indentação\n",
    "\n",
    "O Python é fortemente impulsionado por indentação de código e espaço em branco. Isso significa que a legibilidade do código é uma parte essencial do design da linguagem.\n",
    "\n"
   ]
  },
  {
   "attachments": {},
   "cell_type": "markdown",
   "metadata": {},
   "source": [
    "## Números\n",
    "\n",
    "# Tipos de números\n",
    "\n",
    "Python tem vários \"tipos\" de números (literais numéricos). Nós nos concentraremos principalmente em números inteiros e números de ponto flutuante.\n",
    "\n",
    "Inteiros são apenas números inteiros, positivos ou negativos. Por exemplo: 2 e -2 são exemplos de números inteiros.\n",
    "\n",
    "Os números de pontos flutuantes em Python são notáveis porque eles têm um ponto decimal neles, ou usam uma exponencial (e) para definir o número. Por exemplo, 2.0 e -2.1 são exemplos de números de ponto flutuante. 4E2 (4 vezes 10 para o poder de 2) também é um exemplo de um número de ponto flutuante em Python.\n",
    "\n",
    "Ao longo deste curso, trabalharemos principalmente com números inteiros ou tipos simples de números de flutuação.\n",
    "\n",
    "Aqui está uma tabela dos dois tipos principais que passaremos a maior parte do tempo trabalhando com alguns exemplos:\n",
    "\n",
    "|Exemplo   |Tipo   |\n",
    "|---|---|\n",
    "|1,2, -5, 1000   | números inteiros  |\n",
    "|1.2, -0.5, 2e2. 3E2 | números ponto flutuante  |\n",
    "\n",
    "\n",
    "# Operadores Matemáticos\n",
    "\n",
    "|Exemplo   |Descrição   | Exemplo |\n",
    "|---|---|---|\n",
    "| + | Soma  | 5+5 = 10 |\n",
    "| - | Substração  | 7-2 = 5 |\n",
    "| * | Multiplicação  | 2*2 = 4 |\n",
    "| / | Divisão  | 4/2 = 2 |\n",
    "| % | Resto  | 10%3 = 1 |\n",
    "| ** | Potência  | 4**2 = 16 |\n",
    "\n",
    "Exemplos:"
   ]
  },
  {
   "cell_type": "code",
   "execution_count": 2,
   "metadata": {},
   "outputs": [
    {
     "data": {
      "text/plain": [
       "3"
      ]
     },
     "execution_count": 2,
     "metadata": {},
     "output_type": "execute_result"
    }
   ],
   "source": [
    "2+1 #soma"
   ]
  },
  {
   "cell_type": "code",
   "execution_count": 3,
   "metadata": {},
   "outputs": [
    {
     "data": {
      "text/plain": [
       "1"
      ]
     },
     "execution_count": 3,
     "metadata": {},
     "output_type": "execute_result"
    }
   ],
   "source": [
    "2-1 #substração"
   ]
  },
  {
   "cell_type": "code",
   "execution_count": 4,
   "metadata": {},
   "outputs": [
    {
     "data": {
      "text/plain": [
       "4"
      ]
     },
     "execution_count": 4,
     "metadata": {},
     "output_type": "execute_result"
    }
   ],
   "source": [
    "2*2 #multiplicação"
   ]
  },
  {
   "cell_type": "code",
   "execution_count": 5,
   "metadata": {},
   "outputs": [
    {
     "data": {
      "text/plain": [
       "1.5"
      ]
     },
     "execution_count": 5,
     "metadata": {},
     "output_type": "execute_result"
    }
   ],
   "source": [
    "3/2 #divisão"
   ]
  },
  {
   "cell_type": "code",
   "execution_count": 6,
   "metadata": {},
   "outputs": [
    {
     "data": {
      "text/plain": [
       "1.5"
      ]
     },
     "execution_count": 6,
     "metadata": {},
     "output_type": "execute_result"
    }
   ],
   "source": [
    "3.0/2 #divisão com um nro float "
   ]
  },
  {
   "cell_type": "code",
   "execution_count": 7,
   "metadata": {},
   "outputs": [
    {
     "data": {
      "text/plain": [
       "1.5"
      ]
     },
     "execution_count": 7,
     "metadata": {},
     "output_type": "execute_result"
    }
   ],
   "source": [
    "3/2.0 #funciona com qualquer combinação"
   ]
  },
  {
   "cell_type": "code",
   "execution_count": 8,
   "metadata": {},
   "outputs": [
    {
     "data": {
      "text/plain": [
       "8"
      ]
     },
     "execution_count": 8,
     "metadata": {},
     "output_type": "execute_result"
    }
   ],
   "source": [
    "2**3 #potência"
   ]
  },
  {
   "cell_type": "code",
   "execution_count": 9,
   "metadata": {},
   "outputs": [
    {
     "data": {
      "text/plain": [
       "105"
      ]
     },
     "execution_count": 9,
     "metadata": {},
     "output_type": "execute_result"
    }
   ],
   "source": [
    "2 + 10 * 10 + 3 #ordem dos operadores igual na matemática"
   ]
  },
  {
   "cell_type": "code",
   "execution_count": 10,
   "metadata": {},
   "outputs": [
    {
     "data": {
      "text/plain": [
       "156"
      ]
     },
     "execution_count": 10,
     "metadata": {},
     "output_type": "execute_result"
    }
   ],
   "source": [
    "(2+10) * (10+3) #uso de parenteses para definir a ordem no calculo."
   ]
  },
  {
   "cell_type": "code",
   "execution_count": 11,
   "metadata": {},
   "outputs": [
    {
     "data": {
      "text/plain": [
       "9.0"
      ]
     },
     "execution_count": 11,
     "metadata": {},
     "output_type": "execute_result"
    }
   ],
   "source": [
    "5+2/2*3+1"
   ]
  },
  {
   "attachments": {},
   "cell_type": "markdown",
   "metadata": {},
   "source": [
    "## Atribuição de Variáveis\n",
    "\n",
    "Agora que vimos como usar números em Python como calculadora, vejamos como podemos atribuir nomes e criar variáveis.\n",
    "\n",
    "Usamos um único sinal de igual para atribuir rótulos às variáveis. Vejamos alguns exemplos de como podemos fazer isso."
   ]
  },
  {
   "cell_type": "code",
   "execution_count": 12,
   "metadata": {},
   "outputs": [],
   "source": [
    "a=5 #atribuição"
   ]
  },
  {
   "attachments": {},
   "cell_type": "markdown",
   "metadata": {},
   "source": [
    "Agora, eu chamarmos \"a\" no meu script python, a linguagem tratará isso como o número 5"
   ]
  },
  {
   "cell_type": "code",
   "execution_count": 15,
   "metadata": {},
   "outputs": [
    {
     "name": "stdout",
     "output_type": "stream",
     "text": [
      "10\n",
      "5\n"
     ]
    }
   ],
   "source": [
    "print(a+a)\n",
    "print(a)"
   ]
  },
  {
   "attachments": {},
   "cell_type": "markdown",
   "metadata": {},
   "source": [
    "O que acontece na redefinição ? Python nos deixa escrever sobre os valores anterior ?"
   ]
  },
  {
   "cell_type": "code",
   "execution_count": 20,
   "metadata": {},
   "outputs": [],
   "source": [
    "a = 10 #sobrescrever"
   ]
  },
  {
   "cell_type": "code",
   "execution_count": 21,
   "metadata": {},
   "outputs": [
    {
     "data": {
      "text/plain": [
       "10"
      ]
     },
     "execution_count": 21,
     "metadata": {},
     "output_type": "execute_result"
    }
   ],
   "source": [
    "a #checando"
   ]
  },
  {
   "cell_type": "code",
   "execution_count": 22,
   "metadata": {},
   "outputs": [
    {
     "name": "stdout",
     "output_type": "stream",
     "text": [
      "20\n"
     ]
    }
   ],
   "source": [
    "a = a + a #usando a para definir a\n",
    "print(a)"
   ]
  },
  {
   "attachments": {},
   "cell_type": "markdown",
   "metadata": {},
   "source": [
    "Os nomes que você usa ao criar esses rótulos precisam seguir algumas regras:\n",
    "\n",
    "1. Os nomes não podem começar com um número.\n",
    "\n",
    "2. Não pode haver espaços no nome. Use _ em vez disso. 3. Não é possível usar nenhum desses símbolos: '\", <> /? | \\ ()! @ # $% ^ & * ~ - + 3. É considerada a melhor prática (PEP8) que os nomes são minúsculos.\n",
    "\n",
    "Usar nomes de variáveis pode ser uma maneira muito útil de acompanhar diferentes variáveis em Python. Por exemplo:"
   ]
  },
  {
   "cell_type": "code",
   "execution_count": 23,
   "metadata": {},
   "outputs": [],
   "source": [
    "#usar nomes de objetos para manter uma melhor relação com o que esta acontecendo\n",
    "my_income = 100\n",
    "tax_rate=0.1\n",
    "my_taxes = my_income*tax_rate"
   ]
  },
  {
   "cell_type": "code",
   "execution_count": 24,
   "metadata": {},
   "outputs": [
    {
     "data": {
      "text/plain": [
       "10.0"
      ]
     },
     "execution_count": 24,
     "metadata": {},
     "output_type": "execute_result"
    }
   ],
   "source": [
    "my_taxes #mostra  as taxas"
   ]
  },
  {
   "attachments": {},
   "cell_type": "markdown",
   "metadata": {},
   "source": [
    "Então, o que aprendemos? Aprendemos alguns dos conceitos básicos dos números emPython. Também aprendemos a fazer aritmética e usar Python como uma calculadora básica. Em seguida, o envolvemos com o aprendizado sobre a atribuição variável em Python.\n",
    "\n",
    "Em seguida, aprenderemos sobre Strings!"
   ]
  },
  {
   "attachments": {},
   "cell_type": "markdown",
   "metadata": {},
   "source": [
    "## Strings\n",
    "\n",
    "As strings são usadas em Python para registrar informações de texto, como nome. As cordas em Python são na verdade uma seqüência, o que basicamente significa que o Python acompanha cada elemento da seqüência de caracteres como uma seqüência. Por exemplo, Python entende a string \"hello\" como uma seqüência de letras em uma ordem específica. Isso significa que poderemos usar a indexação para pegar letras particulares (como a primeira letra ou a última letra).\n",
    "\n",
    "Essa idéia de uma seqüência é importante em Python e nós vamos abordá-la mais tarde.\n",
    "\n",
    "Nesta palestra, aprenderemos os seguintes tópicos:\n",
    "\n",
    "1. Criando Strings\n",
    "\n",
    "2. Impressão de coStringsrdas\n",
    "\n",
    "3. Indexação e corte de strings\n",
    "\n",
    "4. Propriedades da Cadeia de Caracteres\n",
    "\n",
    "5. Métodos de Strings\n",
    "\n",
    "6. Formatação de impressão\n",
    "\n",
    "# Criando uma String\n",
    "\n",
    "Para criar uma string em Python, você precisa usar aspas simples ou aspas duplas. Por exemplo:"
   ]
  },
  {
   "cell_type": "code",
   "execution_count": 25,
   "metadata": {},
   "outputs": [
    {
     "data": {
      "text/plain": [
       "'hello'"
      ]
     },
     "execution_count": 25,
     "metadata": {},
     "output_type": "execute_result"
    }
   ],
   "source": [
    "#uma palavra\n",
    "'hello'"
   ]
  },
  {
   "cell_type": "code",
   "execution_count": 26,
   "metadata": {},
   "outputs": [
    {
     "data": {
      "text/plain": [
       "'This is also a string'"
      ]
     },
     "execution_count": 26,
     "metadata": {},
     "output_type": "execute_result"
    }
   ],
   "source": [
    "#uma frase inteira\n",
    "'This is also a string'"
   ]
  },
  {
   "cell_type": "code",
   "execution_count": 27,
   "metadata": {},
   "outputs": [
    {
     "data": {
      "text/plain": [
       "'string built with double quotes'"
      ]
     },
     "execution_count": 27,
     "metadata": {},
     "output_type": "execute_result"
    }
   ],
   "source": [
    "#também é possível com aspas duplas\n",
    "\"string built with double quotes\""
   ]
  },
  {
   "attachments": {},
   "cell_type": "markdown",
   "metadata": {},
   "source": [
    "## Imprimindo uma String\n",
    "\n",
    "Usando o Jupyter Notebook com apenas uma seqüência de caracteres em uma célula emitirá automaticamente cadeias de caracteres, mas a maneira correta de exibir cadeias na sua saída é usando uma função de impressão."
   ]
  },
  {
   "cell_type": "code",
   "execution_count": 28,
   "metadata": {},
   "outputs": [
    {
     "data": {
      "text/plain": [
       "'Hello World'"
      ]
     },
     "execution_count": 28,
     "metadata": {},
     "output_type": "execute_result"
    }
   ],
   "source": [
    "#podemos simplesmente declarar uma string\n",
    "'Hello World'"
   ]
  },
  {
   "cell_type": "code",
   "execution_count": 29,
   "metadata": {},
   "outputs": [
    {
     "data": {
      "text/plain": [
       "'Hello World 2'"
      ]
     },
     "execution_count": 29,
     "metadata": {},
     "output_type": "execute_result"
    }
   ],
   "source": [
    "#note que podemos imprimir várias strings assim\n",
    "'Hello World 1'\n",
    "'Hello World 2'"
   ]
  },
  {
   "attachments": {},
   "cell_type": "markdown",
   "metadata": {},
   "source": [
    "Mas a maneira correta (inclusive utilizando IDE's) é utilizar o método print()."
   ]
  },
  {
   "cell_type": "code",
   "execution_count": 30,
   "metadata": {},
   "outputs": [
    {
     "name": "stdout",
     "output_type": "stream",
     "text": [
      "Hello World 1\n",
      "Hello World 2\n",
      "Use \n",
      " to print a new line\n",
      "\n",
      "\n",
      "See what I mean?\n"
     ]
    }
   ],
   "source": [
    "print('Hello World 1')\n",
    "print('Hello World 2')\n",
    "print('Use \\n to print a new line')\n",
    "print('\\n')\n",
    "print('See what I mean?')"
   ]
  },
  {
   "attachments": {},
   "cell_type": "markdown",
   "metadata": {},
   "source": [
    "Nós também podemos usar uma função chamada len() para verificar o comprimento de uma string!"
   ]
  },
  {
   "cell_type": "code",
   "execution_count": 31,
   "metadata": {},
   "outputs": [
    {
     "data": {
      "text/plain": [
       "11"
      ]
     },
     "execution_count": 31,
     "metadata": {},
     "output_type": "execute_result"
    }
   ],
   "source": [
    "len('Hello World')"
   ]
  },
  {
   "attachments": {},
   "cell_type": "markdown",
   "metadata": {},
   "source": [
    "## Indexação em Strings\n",
    "\n",
    "Sabemos que as strings são uma seqüência, o que significa que o Python pode usar índices para chamar partes da seqüência. Vamos aprender como isso funciona.\n",
    "\n",
    "Em Python, usamos colchetes [] após um objeto para chamar seu índice. \n",
    "\n",
    "Devemos também notar que a indexação começa em 0 para Python. Vamos criar um novo objeto chamado \"s\" e a caminharmos através de alguns exemplos de indexação."
   ]
  },
  {
   "cell_type": "code",
   "execution_count": 32,
   "metadata": {},
   "outputs": [],
   "source": [
    "#define \"s\" como uma string\n",
    "s = 'Hello World'"
   ]
  },
  {
   "cell_type": "code",
   "execution_count": 34,
   "metadata": {},
   "outputs": [
    {
     "data": {
      "text/plain": [
       "'Hello World'"
      ]
     },
     "execution_count": 34,
     "metadata": {},
     "output_type": "execute_result"
    }
   ],
   "source": [
    "#checa \n",
    "s"
   ]
  },
  {
   "cell_type": "code",
   "execution_count": 35,
   "metadata": {},
   "outputs": [
    {
     "name": "stdout",
     "output_type": "stream",
     "text": [
      "Hello World\n"
     ]
    }
   ],
   "source": [
    "#imprime o conteudo do objeto\n",
    "print(s)"
   ]
  },
  {
   "attachments": {},
   "cell_type": "markdown",
   "metadata": {},
   "source": [
    "Ok! Vamos verificar o conteúdo da String de forma indexada."
   ]
  },
  {
   "cell_type": "code",
   "execution_count": 36,
   "metadata": {},
   "outputs": [
    {
     "data": {
      "text/plain": [
       "'H'"
      ]
     },
     "execution_count": 36,
     "metadata": {},
     "output_type": "execute_result"
    }
   ],
   "source": [
    "#Mostra o primeiro elemento (neste caso uma letra)\n",
    "s[0]"
   ]
  },
  {
   "cell_type": "code",
   "execution_count": 37,
   "metadata": {},
   "outputs": [
    {
     "data": {
      "text/plain": [
       "'e'"
      ]
     },
     "execution_count": 37,
     "metadata": {},
     "output_type": "execute_result"
    }
   ],
   "source": [
    "#posicao 1\n",
    "s[1]"
   ]
  },
  {
   "attachments": {},
   "cell_type": "markdown",
   "metadata": {},
   "source": [
    "Podemos usar um \":\" para executar um corte que pega tudo até um ponto designado. Por exemplo:"
   ]
  },
  {
   "cell_type": "code",
   "execution_count": 38,
   "metadata": {},
   "outputs": [
    {
     "data": {
      "text/plain": [
       "'ello World'"
      ]
     },
     "execution_count": 38,
     "metadata": {},
     "output_type": "execute_result"
    }
   ],
   "source": [
    "# Retorna todos elementos a partir do elemento de indice 1\n",
    "s[1:]"
   ]
  },
  {
   "cell_type": "code",
   "execution_count": 39,
   "metadata": {},
   "outputs": [
    {
     "data": {
      "text/plain": [
       "'H'"
      ]
     },
     "execution_count": 39,
     "metadata": {},
     "output_type": "execute_result"
    }
   ],
   "source": [
    "# repare que não houve mudanças no primeiro elemento [0]\n",
    "s[0]"
   ]
  },
  {
   "cell_type": "code",
   "execution_count": 40,
   "metadata": {},
   "outputs": [
    {
     "data": {
      "text/plain": [
       "'Hel'"
      ]
     },
     "execution_count": 40,
     "metadata": {},
     "output_type": "execute_result"
    }
   ],
   "source": [
    "# retorna utdo até o elemento de índice 3 (não incluso)\n",
    "s[:3]"
   ]
  },
  {
   "attachments": {},
   "cell_type": "markdown",
   "metadata": {},
   "source": [
    "Observe o corte acima. Aqui, estamos dizendo ao Python que pegue tudo de 0 a 3. Não inclui o 3º índice. Você notará muito isso em Python, onde as declarações e geralmente são no contexto \"até, mas não incluindo\"."
   ]
  },
  {
   "cell_type": "code",
   "execution_count": 41,
   "metadata": {},
   "outputs": [
    {
     "data": {
      "text/plain": [
       "'Hello World'"
      ]
     },
     "execution_count": 41,
     "metadata": {},
     "output_type": "execute_result"
    }
   ],
   "source": [
    "#tudo\n",
    "s[:]"
   ]
  },
  {
   "attachments": {},
   "cell_type": "markdown",
   "metadata": {},
   "source": [
    "Também podemos usar indexação negativa para retroceder."
   ]
  },
  {
   "cell_type": "code",
   "execution_count": 42,
   "metadata": {},
   "outputs": [
    {
     "data": {
      "text/plain": [
       "'d'"
      ]
     },
     "execution_count": 42,
     "metadata": {},
     "output_type": "execute_result"
    }
   ],
   "source": [
    "# Última letra (um índice antes do 0, então ele começa da parte de trás)\n",
    "s[-1]"
   ]
  },
  {
   "cell_type": "code",
   "execution_count": 43,
   "metadata": {},
   "outputs": [
    {
     "data": {
      "text/plain": [
       "'Hello Worl'"
      ]
     },
     "execution_count": 43,
     "metadata": {},
     "output_type": "execute_result"
    }
   ],
   "source": [
    "# Pega tudo, menos a última letra\n",
    "s[:-1]"
   ]
  },
  {
   "attachments": {},
   "cell_type": "markdown",
   "metadata": {},
   "source": [
    "Também podemos usar notação de índice e fatia para capturar elementos de uma seqüência com espaçamentos (o espaçamento padrão é 1). \n",
    "\n",
    "Por exemplo, podemos usar dois dois pontos em uma linha e, em seguida, um número que especifica a freqüência para capturar elementos. Por exemplo:"
   ]
  },
  {
   "cell_type": "code",
   "execution_count": 44,
   "metadata": {},
   "outputs": [
    {
     "data": {
      "text/plain": [
       "'Hello World'"
      ]
     },
     "execution_count": 44,
     "metadata": {},
     "output_type": "execute_result"
    }
   ],
   "source": [
    "# Pega tudo, de 1 em 1\n",
    "s[::1]"
   ]
  },
  {
   "cell_type": "code",
   "execution_count": 45,
   "metadata": {},
   "outputs": [
    {
     "data": {
      "text/plain": [
       "'HloWrd'"
      ]
     },
     "execution_count": 45,
     "metadata": {},
     "output_type": "execute_result"
    }
   ],
   "source": [
    "# Pega tudo, mas os espaçamentos são de 2 em 2\n",
    "s[::2]"
   ]
  },
  {
   "cell_type": "code",
   "execution_count": 46,
   "metadata": {},
   "outputs": [
    {
     "data": {
      "text/plain": [
       "'dlroW olleH'"
      ]
     },
     "execution_count": 46,
     "metadata": {},
     "output_type": "execute_result"
    }
   ],
   "source": [
    "# Pega tudo, mas com passos negativos, de trás para frente.\n",
    "s[::-1]"
   ]
  },
  {
   "attachments": {},
   "cell_type": "markdown",
   "metadata": {},
   "source": [
    "## Propriedades das Strings\n",
    "\n",
    "É importante notar que as strings têm uma propriedade importante conhecida como imutabilidade. Isso significa que, uma vez que uma string é criada, os elementos nele não podem ser alterados ou substituídos. Por exemplo:"
   ]
  },
  {
   "cell_type": "code",
   "execution_count": 47,
   "metadata": {},
   "outputs": [
    {
     "data": {
      "text/plain": [
       "'Hello World'"
      ]
     },
     "execution_count": 47,
     "metadata": {},
     "output_type": "execute_result"
    }
   ],
   "source": [
    "#mostra o conteudo de \"s\"\n",
    "s"
   ]
  },
  {
   "cell_type": "code",
   "execution_count": 48,
   "metadata": {},
   "outputs": [
    {
     "ename": "TypeError",
     "evalue": "'str' object does not support item assignment",
     "output_type": "error",
     "traceback": [
      "\u001b[0;31m---------------------------------------------------------------------------\u001b[0m",
      "\u001b[0;31mTypeError\u001b[0m                                 Traceback (most recent call last)",
      "\u001b[0;32m/tmp/ipykernel_12042/2010811375.py\u001b[0m in \u001b[0;36m<module>\u001b[0;34m\u001b[0m\n\u001b[1;32m      1\u001b[0m \u001b[0;31m# Vamos tentar mudar a primeira letra para 'x'\u001b[0m\u001b[0;34m\u001b[0m\u001b[0;34m\u001b[0m\u001b[0m\n\u001b[0;32m----> 2\u001b[0;31m \u001b[0ms\u001b[0m\u001b[0;34m[\u001b[0m\u001b[0;36m0\u001b[0m\u001b[0;34m]\u001b[0m \u001b[0;34m=\u001b[0m \u001b[0;34m'x'\u001b[0m\u001b[0;34m\u001b[0m\u001b[0;34m\u001b[0m\u001b[0m\n\u001b[0m",
      "\u001b[0;31mTypeError\u001b[0m: 'str' object does not support item assignment"
     ]
    }
   ],
   "source": [
    "# Vamos tentar mudar a primeira letra para 'x'\n",
    "s[0] = 'x'"
   ]
  },
  {
   "attachments": {},
   "cell_type": "markdown",
   "metadata": {},
   "source": [
    "O código acima incorreu em um erro de execução devido a propriedade da imutabilidade.\n",
    "\n",
    "Observe como o erro nos diz diretamente o que não podemos fazer, alterar a atribuição do item!\n",
    "\n",
    "Algo que podemos fazer é concatenar strings!"
   ]
  },
  {
   "cell_type": "code",
   "execution_count": 49,
   "metadata": {},
   "outputs": [],
   "source": [
    "#Concatenando o conteudo de \"s\" com uma string e alterando seu conteúdo\n",
    "s = s+ \" conatenate me!\""
   ]
  },
  {
   "cell_type": "code",
   "execution_count": 50,
   "metadata": {},
   "outputs": [
    {
     "name": "stdout",
     "output_type": "stream",
     "text": [
      "Hello World conatenate me!\n"
     ]
    }
   ],
   "source": [
    "print(s)"
   ]
  },
  {
   "cell_type": "code",
   "execution_count": 51,
   "metadata": {},
   "outputs": [
    {
     "data": {
      "text/plain": [
       "'Hello World conatenate me!'"
      ]
     },
     "execution_count": 51,
     "metadata": {},
     "output_type": "execute_result"
    }
   ],
   "source": [
    "s"
   ]
  },
  {
   "attachments": {},
   "cell_type": "markdown",
   "metadata": {},
   "source": [
    "Podemos utilizar o símbolo da multiplicação para criar repetições!"
   ]
  },
  {
   "cell_type": "code",
   "execution_count": 52,
   "metadata": {},
   "outputs": [],
   "source": [
    "letter='z'"
   ]
  },
  {
   "cell_type": "code",
   "execution_count": 53,
   "metadata": {},
   "outputs": [
    {
     "data": {
      "text/plain": [
       "'zzzzzzzzzz'"
      ]
     },
     "execution_count": 53,
     "metadata": {},
     "output_type": "execute_result"
    }
   ],
   "source": [
    "letter*10"
   ]
  },
  {
   "attachments": {},
   "cell_type": "markdown",
   "metadata": {},
   "source": [
    "## Métodos embutidos em Strings\n",
    "\n",
    "Os objetos em Python geralmente possuem métodos internos. Esses métodos são funções dentro do objeto (aprenderemos sobre isso em muito mais profundidade depois) que podem executar ações ou comandos no próprio objeto.\n",
    "\n",
    "Chamamos métodos com um ponto e depois o nome do método. Os métodos estão na forma: \n",
    "\n",
    "objeto.método(parâmetros)\n",
    "\n",
    "\n",
    "Onde os parâmetros são argumentos extras que podemos passar para o método. \n",
    "\n",
    "Não se preocupe se os detalhes não fazem 100% de sentido agora. Mais tarde, criaremos nossos próprios objetos e funções!\n",
    "\n",
    "Aqui estão alguns exemplos de métodos internos em strings:"
   ]
  },
  {
   "cell_type": "code",
   "execution_count": 54,
   "metadata": {},
   "outputs": [
    {
     "data": {
      "text/plain": [
       "'HELLO WORLD CONATENATE ME!'"
      ]
     },
     "execution_count": 54,
     "metadata": {},
     "output_type": "execute_result"
    }
   ],
   "source": [
    "#coloca texto em caixa alta\n",
    "s.upper()"
   ]
  },
  {
   "cell_type": "code",
   "execution_count": 55,
   "metadata": {},
   "outputs": [
    {
     "data": {
      "text/plain": [
       "'hello world conatenate me!'"
      ]
     },
     "execution_count": 55,
     "metadata": {},
     "output_type": "execute_result"
    }
   ],
   "source": [
    "#coloca o texto em caixa baixa\n",
    "s.lower()"
   ]
  },
  {
   "cell_type": "code",
   "execution_count": 56,
   "metadata": {},
   "outputs": [
    {
     "data": {
      "text/plain": [
       "['Hello', 'World', 'conatenate', 'me!']"
      ]
     },
     "execution_count": 56,
     "metadata": {},
     "output_type": "execute_result"
    }
   ],
   "source": [
    "#divide uma string nos espaços em branco (este é o padrão)\n",
    "s.split()"
   ]
  },
  {
   "cell_type": "code",
   "execution_count": 57,
   "metadata": {},
   "outputs": [
    {
     "data": {
      "text/plain": [
       "['Hello ', 'orld conatenate me!']"
      ]
     },
     "execution_count": 57,
     "metadata": {},
     "output_type": "execute_result"
    }
   ],
   "source": [
    "# Divide em um elemento específico \n",
    "#(não inclui o elemento que foi dividido)\n",
    "s.split('W')"
   ]
  },
  {
   "cell_type": "code",
   "execution_count": 58,
   "metadata": {},
   "outputs": [
    {
     "data": {
      "text/plain": [
       "['10', '20', '30', '40', '50', '60', '70', '80', '90', '100']"
      ]
     },
     "execution_count": 58,
     "metadata": {},
     "output_type": "execute_result"
    }
   ],
   "source": [
    "dados = \"10;20;30;40;50;60;70;80;90;100\"\n",
    "dados.split(';')"
   ]
  },
  {
   "cell_type": "code",
   "execution_count": 59,
   "metadata": {},
   "outputs": [
    {
     "data": {
      "text/plain": [
       "'Hello world conatenate me!'"
      ]
     },
     "execution_count": 59,
     "metadata": {},
     "output_type": "execute_result"
    }
   ],
   "source": [
    "# retorna a string com a primeira letra maiuscula\n",
    "s.capitalize()"
   ]
  },
  {
   "cell_type": "code",
   "execution_count": 60,
   "metadata": {},
   "outputs": [
    {
     "data": {
      "text/plain": [
       "3"
      ]
     },
     "execution_count": 60,
     "metadata": {},
     "output_type": "execute_result"
    }
   ],
   "source": [
    "#informa quantas vezes ua caractere (ou sequencia) aparece na string\n",
    "s.count('l')"
   ]
  },
  {
   "cell_type": "code",
   "execution_count": 61,
   "metadata": {},
   "outputs": [
    {
     "data": {
      "text/plain": [
       "True"
      ]
     },
     "execution_count": 61,
     "metadata": {},
     "output_type": "execute_result"
    }
   ],
   "source": [
    "#verifica se uma sring inicia com determina sequencia\n",
    "s.startswith(\"Hel\")"
   ]
  },
  {
   "cell_type": "code",
   "execution_count": 62,
   "metadata": {},
   "outputs": [
    {
     "data": {
      "text/plain": [
       "False"
      ]
     },
     "execution_count": 62,
     "metadata": {},
     "output_type": "execute_result"
    }
   ],
   "source": [
    "#verifica se uma string termina com uma determinada sequencia\n",
    "s.endswith('rld')"
   ]
  },
  {
   "cell_type": "code",
   "execution_count": 68,
   "metadata": {},
   "outputs": [
    {
     "name": "stdout",
     "output_type": "stream",
     "text": [
      "False\n",
      "False\n",
      "True\n"
     ]
    }
   ],
   "source": [
    "#verifica se a string possui algum conteúdo alfanumerico (letra e número)\n",
    "e='!@#$%5a'\n",
    "print(e.isalpha())\n",
    "print(e.isalnum())\n",
    "print(e.isascii())"
   ]
  },
  {
   "cell_type": "code",
   "execution_count": 69,
   "metadata": {},
   "outputs": [
    {
     "data": {
      "text/plain": [
       "False"
      ]
     },
     "execution_count": 69,
     "metadata": {},
     "output_type": "execute_result"
    }
   ],
   "source": [
    "#verifica se a string possui apenas conteúdo alfabético\n",
    "s.isalpha()"
   ]
  },
  {
   "cell_type": "code",
   "execution_count": 70,
   "metadata": {},
   "outputs": [
    {
     "data": {
      "text/plain": [
       "True"
      ]
     },
     "execution_count": 70,
     "metadata": {},
     "output_type": "execute_result"
    }
   ],
   "source": [
    "#verifica se todas as letras de uma string são maiusculas\n",
    "e=\"TESTE\"\n",
    "e.isupper()"
   ]
  },
  {
   "cell_type": "code",
   "execution_count": 71,
   "metadata": {},
   "outputs": [
    {
     "data": {
      "text/plain": [
       "True"
      ]
     },
     "execution_count": 71,
     "metadata": {},
     "output_type": "execute_result"
    }
   ],
   "source": [
    "#verifica se todas as letras de uma string são minusculas\n",
    "e=\"teste\"\n",
    "e.islower()"
   ]
  },
  {
   "cell_type": "code",
   "execution_count": 72,
   "metadata": {},
   "outputs": [
    {
     "data": {
      "text/plain": [
       "'pYTHON'"
      ]
     },
     "execution_count": 72,
     "metadata": {},
     "output_type": "execute_result"
    }
   ],
   "source": [
    "#Inverte o conteúdo da string (maiusculo -> minusculo)\n",
    "k='Python'\n",
    "k.swapcase()"
   ]
  },
  {
   "cell_type": "code",
   "execution_count": 73,
   "metadata": {},
   "outputs": [
    {
     "data": {
      "text/plain": [
       "'Apostila De Python'"
      ]
     },
     "execution_count": 73,
     "metadata": {},
     "output_type": "execute_result"
    }
   ],
   "source": [
    "#Converte para maiusculo todas as primeiras letras de cada palavra da string\n",
    "k=\"apostila de python\"\n",
    "k.title()"
   ]
  },
  {
   "cell_type": "code",
   "execution_count": 75,
   "metadata": {},
   "outputs": [
    {
     "name": "stdout",
     "output_type": "stream",
     "text": [
      "Apostila de Python\n",
      "Apostila Teste\n"
     ]
    }
   ],
   "source": [
    "#substitui na string o trecho S1 pelo trecho S2\n",
    "k = 'Apostila Teste'\n",
    "print(k.replace('Teste', 'de Python'))\n",
    "print(k)\n"
   ]
  },
  {
   "cell_type": "code",
   "execution_count": 76,
   "metadata": {},
   "outputs": [
    {
     "name": "stdout",
     "output_type": "stream",
     "text": [
      "Apostila de Python\n"
     ]
    },
    {
     "data": {
      "text/plain": [
       "15"
      ]
     },
     "execution_count": 76,
     "metadata": {},
     "output_type": "execute_result"
    }
   ],
   "source": [
    "#retorna o índice da primeira ocorrência de um determinado caractere\n",
    "#na string. Se o caractere não estiver na string retorna -1\n",
    "k='Apostila de Python'\n",
    "print(k)\n",
    "k.find('h')\n"
   ]
  },
  {
   "cell_type": "code",
   "execution_count": 77,
   "metadata": {},
   "outputs": [
    {
     "data": {
      "text/plain": [
       "-1"
      ]
     },
     "execution_count": 77,
     "metadata": {},
     "output_type": "execute_result"
    }
   ],
   "source": [
    "k.find('u')"
   ]
  },
  {
   "cell_type": "code",
   "execution_count": 78,
   "metadata": {},
   "outputs": [
    {
     "data": {
      "text/plain": [
       "6"
      ]
     },
     "execution_count": 78,
     "metadata": {},
     "output_type": "execute_result"
    }
   ],
   "source": [
    "#ajusta a string a um tamanho mínimo, \n",
    "#acrescentando espaços a direita se necessário\n",
    "p='Python'\n",
    "len(p)\n"
   ]
  },
  {
   "attachments": {},
   "cell_type": "markdown",
   "metadata": {},
   "source": [
    "ljust --> p = Python atribui espaços"
   ]
  },
  {
   "cell_type": "code",
   "execution_count": 82,
   "metadata": {},
   "outputs": [
    {
     "name": "stdout",
     "output_type": "stream",
     "text": [
      "Python              ;\n"
     ]
    }
   ],
   "source": [
    "len(p.ljust(20))\n",
    "print(p.ljust(20)+\";\")"
   ]
  },
  {
   "cell_type": "code",
   "execution_count": null,
   "metadata": {},
   "outputs": [],
   "source": [
    "#ajusta a string a um tamanho mínimo, \n",
    "#acrescentando espaços a esquerda se necessário\n",
    "p='Python'\n",
    "len(p)\n"
   ]
  },
  {
   "attachments": {},
   "cell_type": "markdown",
   "metadata": {},
   "source": [
    "Rjust --> direita"
   ]
  },
  {
   "cell_type": "code",
   "execution_count": 83,
   "metadata": {},
   "outputs": [
    {
     "name": "stdout",
     "output_type": "stream",
     "text": [
      "              Python\n"
     ]
    }
   ],
   "source": [
    "len(p.rjust(20))\n",
    "print(p.rjust(20))"
   ]
  },
  {
   "cell_type": "code",
   "execution_count": 84,
   "metadata": {},
   "outputs": [
    {
     "name": "stdout",
     "output_type": "stream",
     "text": [
      "            Python            \n"
     ]
    }
   ],
   "source": [
    "#ajusta a string para um tamanho mínimo, acrescentando espalos à direita e a esqueda se necessário\n",
    "p='Python'\n",
    "print(p.center(30))"
   ]
  },
  {
   "cell_type": "code",
   "execution_count": 85,
   "metadata": {},
   "outputs": [
    {
     "name": "stdout",
     "output_type": "stream",
     "text": [
      "-\n",
      "-Python      -\n"
     ]
    }
   ],
   "source": [
    "#remove todos os espaços em branco do lado esquedo da string\n",
    "p='      Python      '\n",
    "print(\"-\")\n",
    "print(\"-\"+p.lstrip()+\"-\")"
   ]
  },
  {
   "cell_type": "code",
   "execution_count": 86,
   "metadata": {},
   "outputs": [
    {
     "name": "stdout",
     "output_type": "stream",
     "text": [
      "-\n",
      "-      Python-\n"
     ]
    }
   ],
   "source": [
    "#remove todos os espaços em branco do lado direito da string\n",
    "p='      Python      '\n",
    "print(\"-\")\n",
    "print(\"-\"+p.rstrip()+\"-\")"
   ]
  },
  {
   "cell_type": "code",
   "execution_count": 87,
   "metadata": {},
   "outputs": [
    {
     "name": "stdout",
     "output_type": "stream",
     "text": [
      "-\n",
      "-Python-\n"
     ]
    }
   ],
   "source": [
    "#remove todos os espaços em branco  da string\n",
    "p='      Python      '\n",
    "print(\"-\")\n",
    "print(\"-\"+p.strip()+\"-\")"
   ]
  },
  {
   "attachments": {},
   "cell_type": "markdown",
   "metadata": {},
   "source": [
    "## Formatação da Impressão\n",
    "\n",
    "Podemos usar o método .format() para adicionar objetos formatados a instruções de impressões.\n",
    "\n",
    "A maneira mais fácil de mostrar isso é através de um exemplo:"
   ]
  },
  {
   "cell_type": "code",
   "execution_count": 88,
   "metadata": {},
   "outputs": [
    {
     "data": {
      "text/plain": [
       "'Insert another string with curly brackets: The inserted string'"
      ]
     },
     "execution_count": 88,
     "metadata": {},
     "output_type": "execute_result"
    }
   ],
   "source": [
    "'Insert another string with curly brackets: {}'.format('The inserted string')"
   ]
  },
  {
   "attachments": {},
   "cell_type": "markdown",
   "metadata": {},
   "source": [
    "Se tentarmos concatenar diretamente a saida na função print() com uma variavel numérica ocasionará um erro de execução."
   ]
  },
  {
   "cell_type": "code",
   "execution_count": 89,
   "metadata": {},
   "outputs": [
    {
     "ename": "TypeError",
     "evalue": "can only concatenate str (not \"int\") to str",
     "output_type": "error",
     "traceback": [
      "\u001b[0;31m---------------------------------------------------------------------------\u001b[0m",
      "\u001b[0;31mTypeError\u001b[0m                                 Traceback (most recent call last)",
      "\u001b[0;32m/tmp/ipykernel_12042/3308891919.py\u001b[0m in \u001b[0;36m<module>\u001b[0;34m\u001b[0m\n\u001b[1;32m      1\u001b[0m \u001b[0msalario\u001b[0m \u001b[0;34m=\u001b[0m \u001b[0;36m10000\u001b[0m\u001b[0;34m\u001b[0m\u001b[0;34m\u001b[0m\u001b[0m\n\u001b[0;32m----> 2\u001b[0;31m \u001b[0mprint\u001b[0m\u001b[0;34m(\u001b[0m\u001b[0;34m\"O valor do salario e\"\u001b[0m\u001b[0;34m+\u001b[0m\u001b[0msalario\u001b[0m\u001b[0;34m)\u001b[0m\u001b[0;34m\u001b[0m\u001b[0;34m\u001b[0m\u001b[0m\n\u001b[0m",
      "\u001b[0;31mTypeError\u001b[0m: can only concatenate str (not \"int\") to str"
     ]
    }
   ],
   "source": [
    "salario = 10000\n",
    "print(\"O valor do salario e\"+salario)"
   ]
  },
  {
   "attachments": {},
   "cell_type": "markdown",
   "metadata": {},
   "source": [
    "Através do format corrigimos esse problema."
   ]
  },
  {
   "cell_type": "code",
   "execution_count": 90,
   "metadata": {},
   "outputs": [
    {
     "name": "stdout",
     "output_type": "stream",
     "text": [
      "O salario informado e de 10000 reais mensais\n"
     ]
    }
   ],
   "source": [
    "salario = 10000\n",
    "print('O salario informado e de {} reais mensais'.format(salario))"
   ]
  },
  {
   "attachments": {},
   "cell_type": "markdown",
   "metadata": {},
   "source": [
    "Quanto concatenamos strings na saida do print não temos problemas."
   ]
  },
  {
   "cell_type": "code",
   "execution_count": 91,
   "metadata": {},
   "outputs": [
    {
     "name": "stdout",
     "output_type": "stream",
     "text": [
      "teste de texto digitado pelo aluno\n"
     ]
    }
   ],
   "source": [
    "texto01 = \"teste de texto\"\n",
    "texto02 = \" digitado pelo aluno\"\n",
    "print(texto01+texto02)"
   ]
  },
  {
   "attachments": {},
   "cell_type": "markdown",
   "metadata": {},
   "source": [
    "## Listas\n",
    "\n",
    "Anteriormente, ao discutir strings, introduzimos o conceito de sequência em Python. \n",
    "\n",
    "As listas podem ser pensadas na versão mais geral de uma sequência em Python. \n",
    "\n",
    "Ao contrário das strings, eles são mutáveis, o que significa que os elementos dentro de uma lista podem ser alterados!\n",
    "\n",
    "As listas são construídas com colchetes [] e vírgulas que separam cada elemento da lista.\n",
    "\n",
    "Lista é um conjunto sequencial de valores, onde cada valor é identificado através de um índice. O primeiro valor tem índice 0. Uma lista em Python é declarada da seguinte forma:\n",
    "\n",
    "Nome_Lista = [ valor1, valor2, ..., valorN]\n",
    "\n",
    "Uma lista pode ter valores de qualquer tipo, incluindo outras listas.\n",
    "\n",
    "Exemplo:"
   ]
  },
  {
   "cell_type": "code",
   "execution_count": 1,
   "metadata": {},
   "outputs": [
    {
     "name": "stdout",
     "output_type": "stream",
     "text": [
      "[3, 'abacate', 9.7, [1, 2, 3], 'Python', (3, 'j')]\n"
     ]
    }
   ],
   "source": [
    "#lista com mutlimos tipos de dados (inteiro, string, real, lista, string, dicionario)\n",
    "l = [3, 'abacate', 9.7, [1,2,3], \"Python\", (3,\"j\")]\n",
    "print(l)"
   ]
  },
  {
   "attachments": {},
   "cell_type": "markdown",
   "metadata": {},
   "source": [
    "Assim como as strings, a função len() irá dizer-lhe quantos itens estão na sequência da lista."
   ]
  },
  {
   "cell_type": "code",
   "execution_count": 2,
   "metadata": {},
   "outputs": [
    {
     "data": {
      "text/plain": [
       "6"
      ]
     },
     "execution_count": 2,
     "metadata": {},
     "output_type": "execute_result"
    }
   ],
   "source": [
    "len(l)"
   ]
  },
  {
   "cell_type": "code",
   "execution_count": 4,
   "metadata": {},
   "outputs": [
    {
     "name": "stdout",
     "output_type": "stream",
     "text": [
      "<class 'int'>\n",
      "<class 'str'>\n",
      "<class 'float'>\n",
      "<class 'list'>\n",
      "<class 'str'>\n",
      "<class 'tuple'>\n"
     ]
    }
   ],
   "source": [
    "print(type(l[0]))\n",
    "print(type(l[1]))\n",
    "print(type(l[2]))\n",
    "print(type(l[3]))\n",
    "print(type(l[4]))\n",
    "print(type(l[5]))"
   ]
  },
  {
   "attachments": {},
   "cell_type": "markdown",
   "metadata": {},
   "source": [
    "## Listas - Indexação e Corte\n",
    "\n",
    "Indexar e cortar funciona exatamente como em strings. Vamos fazer uma nova lista para nos\n",
    "\n",
    "lembrar de como isso funciona:"
   ]
  },
  {
   "cell_type": "code",
   "execution_count": 5,
   "metadata": {},
   "outputs": [
    {
     "name": "stdout",
     "output_type": "stream",
     "text": [
      "9.7\n"
     ]
    }
   ],
   "source": [
    "#pega o terceiro elemento da lista\n",
    "print(l[2])"
   ]
  },
  {
   "cell_type": "code",
   "execution_count": 6,
   "metadata": {},
   "outputs": [
    {
     "name": "stdout",
     "output_type": "stream",
     "text": [
      "[1, 2, 3]\n"
     ]
    }
   ],
   "source": [
    "#pega o quarto elemento da lista\n",
    "print(l[3])"
   ]
  },
  {
   "cell_type": "code",
   "execution_count": 10,
   "metadata": {},
   "outputs": [
    {
     "name": "stdout",
     "output_type": "stream",
     "text": [
      "[2, 3]\n"
     ]
    }
   ],
   "source": [
    "#quando o elemento da lista é uma outra lista podemos passar a posição\n",
    "#do elemento da primeira lista e da segundad lista \n",
    "#funcionando como uma matriz\n",
    "print(l[3][1])"
   ]
  },
  {
   "cell_type": "code",
   "execution_count": 8,
   "metadata": {},
   "outputs": [
    {
     "name": "stdout",
     "output_type": "stream",
     "text": [
      "['abacate', 9.7, [1, 2, 3], 'Python', (3, 'j')]\n"
     ]
    }
   ],
   "source": [
    "#podemos também pegar todos os elementos a  partir de um determinado indice.\n",
    "print(l[1:])"
   ]
  },
  {
   "cell_type": "code",
   "execution_count": 9,
   "metadata": {},
   "outputs": [
    {
     "name": "stdout",
     "output_type": "stream",
     "text": [
      "[3, 'abacate', 9.7]\n"
     ]
    }
   ],
   "source": [
    "#podemos pegar todos elementos até um determinado indice\n",
    "print(l[:3])"
   ]
  },
  {
   "cell_type": "code",
   "execution_count": 11,
   "metadata": {},
   "outputs": [
    {
     "name": "stdout",
     "output_type": "stream",
     "text": [
      "[2, 3]\n"
     ]
    }
   ],
   "source": [
    "#Posição 3 da lista é uma outra lista.\n",
    "#é possível pegar da lista interna todos os elementos a partir do indexador 1\n",
    "print(l[3][1:])"
   ]
  },
  {
   "attachments": {},
   "cell_type": "markdown",
   "metadata": {},
   "source": [
    "Para alterar um elemento da lista, basta fazer uma atribuição de valor através do índice. O valor existente será substituído pelo novo valor.\n",
    "\n",
    "Exemplo:"
   ]
  },
  {
   "cell_type": "code",
   "execution_count": 12,
   "metadata": {},
   "outputs": [
    {
     "name": "stdout",
     "output_type": "stream",
     "text": [
      "[3, 'abacate', 9.7, 'morango', 'Python', (3, 'j')]\n"
     ]
    }
   ],
   "source": [
    "l[3] = 'morango'\n",
    "print(l)"
   ]
  },
  {
   "attachments": {},
   "cell_type": "markdown",
   "metadata": {},
   "source": [
    "A tentativa de acesso a um índice inexistente resultará em um erro !"
   ]
  },
  {
   "cell_type": "code",
   "execution_count": 13,
   "metadata": {},
   "outputs": [
    {
     "ename": "IndexError",
     "evalue": "list index out of range",
     "output_type": "error",
     "traceback": [
      "\u001b[0;31m---------------------------------------------------------------------------\u001b[0m",
      "\u001b[0;31mIndexError\u001b[0m                                Traceback (most recent call last)",
      "\u001b[0;32m/tmp/ipykernel_4692/4096268949.py\u001b[0m in \u001b[0;36m<module>\u001b[0;34m\u001b[0m\n\u001b[0;32m----> 1\u001b[0;31m \u001b[0mprint\u001b[0m\u001b[0;34m(\u001b[0m\u001b[0ml\u001b[0m\u001b[0;34m[\u001b[0m\u001b[0;36m7\u001b[0m\u001b[0;34m]\u001b[0m\u001b[0;34m)\u001b[0m\u001b[0;34m\u001b[0m\u001b[0;34m\u001b[0m\u001b[0m\n\u001b[0m",
      "\u001b[0;31mIndexError\u001b[0m: list index out of range"
     ]
    }
   ],
   "source": [
    "print(l[7])"
   ]
  },
  {
   "attachments": {},
   "cell_type": "markdown",
   "metadata": {},
   "source": [
    "Podemos realizar a concatenação de listas com o \"+\", sem necessáriamente alterar os seus valores permanentemente."
   ]
  },
  {
   "cell_type": "code",
   "execution_count": 15,
   "metadata": {},
   "outputs": [
    {
     "name": "stdout",
     "output_type": "stream",
     "text": [
      "[1, 2, 3, 4, 5, 6, 7, 8]\n",
      "[1, 2, 3, 4]\n",
      "[5, 6, 7, 8]\n"
     ]
    }
   ],
   "source": [
    "lista01 = [1,2,3,4]\n",
    "lista02 = [5,6,7,8]\n",
    "print(lista01+lista02)\n",
    "print(lista01)\n",
    "print(lista02)\n",
    "#o codigo acima apenas concatena as listas na saída do print não altera seus valores originais"
   ]
  },
  {
   "attachments": {},
   "cell_type": "markdown",
   "metadata": {},
   "source": [
    "Se necessário realizar a mudança permanente basta fazer uma atribuição."
   ]
  },
  {
   "cell_type": "code",
   "execution_count": 16,
   "metadata": {},
   "outputs": [
    {
     "name": "stdout",
     "output_type": "stream",
     "text": [
      "[1, 2, 3, 4, 5, 6, 7, 8]\n"
     ]
    }
   ],
   "source": [
    "lista03 = lista01+lista02\n",
    "print(lista03)"
   ]
  },
  {
   "attachments": {},
   "cell_type": "markdown",
   "metadata": {},
   "source": [
    "Também, como ocorre com as strings, podemos realizar a duplicação com o simbolo de \"*\" das listas."
   ]
  },
  {
   "cell_type": "code",
   "execution_count": 17,
   "metadata": {},
   "outputs": [
    {
     "name": "stdout",
     "output_type": "stream",
     "text": [
      "[1, 2, 3, 4, 5, 6, 7, 8, 1, 2, 3, 4, 5, 6, 7, 8, 1, 2, 3, 4, 5, 6, 7, 8]\n"
     ]
    }
   ],
   "source": [
    "print(lista03*3)"
   ]
  },
  {
   "attachments": {},
   "cell_type": "markdown",
   "metadata": {},
   "source": [
    "## Listas - Métodos\n",
    "\n",
    "Se você está familiarizado com outra linguagem de programação, você pode começar a comparar arrays em outro idioma e listas em Python. \n",
    "\n",
    "As listas em Python, no entanto, tendem a ser mais flexíveis do que arrays em outras línguas por dois bons motivos: eles não têm\n",
    "tamanho fixo (o que significa que não precisamos especificar o tamanho de uma lista), e eles não têm restrição de tipo fixo (como já vimos acima).\n",
    "\n",
    "Vamos prosseguir e explore alguns métodos mais especiais para listas:"
   ]
  },
  {
   "cell_type": "code",
   "execution_count": 18,
   "metadata": {},
   "outputs": [
    {
     "name": "stdout",
     "output_type": "stream",
     "text": [
      "[1, 2, 3]\n"
     ]
    }
   ],
   "source": [
    "#cria lista\n",
    "l = [1,2,3]\n",
    "print(l)"
   ]
  },
  {
   "cell_type": "code",
   "execution_count": 19,
   "metadata": {},
   "outputs": [
    {
     "name": "stdout",
     "output_type": "stream",
     "text": [
      "[1, 2, 3, 'insira-me']\n"
     ]
    }
   ],
   "source": [
    "#adiciona elemento ao final da lista\n",
    "l.append('insira-me')\n",
    "print(l)"
   ]
  },
  {
   "cell_type": "code",
   "execution_count": 20,
   "metadata": {},
   "outputs": [
    {
     "name": "stdout",
     "output_type": "stream",
     "text": [
      "[2, 3, 'insira-me']\n"
     ]
    }
   ],
   "source": [
    "#retira elemento da lista\n",
    "#Por padrão o pop retira o último elemento da lista, \n",
    "#mas também podemos especificar qual queremos retirar\n",
    "l.pop(0)\n",
    "print(l)"
   ]
  },
  {
   "cell_type": "code",
   "execution_count": 21,
   "metadata": {},
   "outputs": [
    {
     "name": "stdout",
     "output_type": "stream",
     "text": [
      "insira-me\n"
     ]
    }
   ],
   "source": [
    "#retira ultimo elemento e armazena em variavel\n",
    "item_excluido = l.pop()\n",
    "print(item_excluido)"
   ]
  },
  {
   "cell_type": "code",
   "execution_count": 22,
   "metadata": {},
   "outputs": [
    {
     "name": "stdout",
     "output_type": "stream",
     "text": [
      "[2, 3]\n"
     ]
    }
   ],
   "source": [
    "#visualiza a lista\n",
    "print(l)"
   ]
  },
  {
   "attachments": {},
   "cell_type": "markdown",
   "metadata": {},
   "source": [
    "Podemos usar o método sort e o método reverse para alterar as listas."
   ]
  },
  {
   "cell_type": "code",
   "execution_count": 23,
   "metadata": {},
   "outputs": [
    {
     "name": "stdout",
     "output_type": "stream",
     "text": [
      "['a', 'e', 'x', 'b', 'c']\n"
     ]
    }
   ],
   "source": [
    "#cria a lista\n",
    "nova_lista = ['a', 'e', 'x', 'b', 'c']\n",
    "print(nova_lista)"
   ]
  },
  {
   "cell_type": "code",
   "execution_count": 24,
   "metadata": {},
   "outputs": [
    {
     "name": "stdout",
     "output_type": "stream",
     "text": [
      "['c', 'b', 'x', 'e', 'a']\n"
     ]
    }
   ],
   "source": [
    "#use o reverse para reverter a ordem da lista\n",
    "#ATENÇÂO !!! Este método altera permanentemetne a ordem original da lista\n",
    "nova_lista.reverse()\n",
    "print(nova_lista)"
   ]
  },
  {
   "cell_type": "code",
   "execution_count": 25,
   "metadata": {},
   "outputs": [
    {
     "name": "stdout",
     "output_type": "stream",
     "text": [
      "['a', 'b', 'c', 'e', 'x']\n"
     ]
    }
   ],
   "source": [
    "#para ordenar um alista use o sort\n",
    "nova_lista.sort()\n",
    "print(nova_lista)"
   ]
  },
  {
   "attachments": {},
   "cell_type": "markdown",
   "metadata": {},
   "source": [
    "## Listas Aninhadas\n",
    "\n",
    "Uma ótima característica das estruturas de dados do Python é que eles suportam\n",
    "aninhamento . Isso significa que podemos ter estruturas de dados dentro das estruturas de\n",
    "dados. Por exemplo: uma lista dentro de uma lista.\n",
    "\n",
    "Vamos ver como isso funciona!"
   ]
  },
  {
   "cell_type": "code",
   "execution_count": 26,
   "metadata": {},
   "outputs": [
    {
     "name": "stdout",
     "output_type": "stream",
     "text": [
      "[1, 2, 3]\n",
      "[3, 4, 5]\n",
      "[6, 7, 8]\n"
     ]
    }
   ],
   "source": [
    "#vamos criar 3 listas\n",
    "list1 = [1,2,3]\n",
    "list2 = [3,4,5]\n",
    "list3 = [6,7,8]\n",
    "\n",
    "print(list1)\n",
    "print(list2)\n",
    "print(list3)\n",
    "\n"
   ]
  },
  {
   "cell_type": "code",
   "execution_count": 27,
   "metadata": {},
   "outputs": [
    {
     "name": "stdout",
     "output_type": "stream",
     "text": [
      "[[1, 2, 3], [3, 4, 5], [6, 7, 8]]\n"
     ]
    }
   ],
   "source": [
    "#agora vamos montar uma matriz a partir de listas aninhadas\n",
    "\n",
    "matriz = [list1,list2,list3]\n",
    "print(matriz)"
   ]
  },
  {
   "cell_type": "code",
   "execution_count": 28,
   "metadata": {},
   "outputs": [
    {
     "data": {
      "text/plain": [
       "[1, 2, 3]"
      ]
     },
     "execution_count": 28,
     "metadata": {},
     "output_type": "execute_result"
    }
   ],
   "source": [
    "#para pegar o primeiro elemento da matriz (1 linha ou 1 lista aninhada)\n",
    "matriz[0]"
   ]
  },
  {
   "cell_type": "code",
   "execution_count": 29,
   "metadata": {},
   "outputs": [
    {
     "data": {
      "text/plain": [
       "1"
      ]
     },
     "execution_count": 29,
     "metadata": {},
     "output_type": "execute_result"
    }
   ],
   "source": [
    "#agora vamos pegar o primeiro elemento da primeira lista aninhada na matriz\n",
    "matriz[0][0]"
   ]
  },
  {
   "attachments": {},
   "cell_type": "markdown",
   "metadata": {},
   "source": [
    "Outras funções para listas"
   ]
  },
  {
   "cell_type": "code",
   "execution_count": 30,
   "metadata": {},
   "outputs": [],
   "source": [
    "#cria uma nova lista\n",
    "lista01 = [1,2,3,4,5,6,7,8,9]"
   ]
  },
  {
   "cell_type": "code",
   "execution_count": 31,
   "metadata": {},
   "outputs": [
    {
     "name": "stdout",
     "output_type": "stream",
     "text": [
      "1\n"
     ]
    }
   ],
   "source": [
    "#retorna o menor valor da lista\n",
    "print(min(lista01))"
   ]
  },
  {
   "cell_type": "code",
   "execution_count": 32,
   "metadata": {},
   "outputs": [
    {
     "name": "stdout",
     "output_type": "stream",
     "text": [
      "9\n"
     ]
    }
   ],
   "source": [
    "#retorna o maior valor da lista\n",
    "print(max(lista01))"
   ]
  },
  {
   "cell_type": "code",
   "execution_count": 33,
   "metadata": {},
   "outputs": [
    {
     "name": "stdout",
     "output_type": "stream",
     "text": [
      "45\n"
     ]
    }
   ],
   "source": [
    "#retorna a soma dos valores da lista\n",
    "print(sum(lista01))"
   ]
  },
  {
   "cell_type": "code",
   "execution_count": 38,
   "metadata": {},
   "outputs": [
    {
     "name": "stdout",
     "output_type": "stream",
     "text": [
      "5.0\n",
      "5.0\n"
     ]
    }
   ],
   "source": [
    "import numpy as np\n",
    "print(np.average(lista01))\n",
    "print(sum(lista01)/len(lista01))"
   ]
  },
  {
   "cell_type": "code",
   "execution_count": 34,
   "metadata": {},
   "outputs": [
    {
     "data": {
      "text/plain": [
       "True"
      ]
     },
     "execution_count": 34,
     "metadata": {},
     "output_type": "execute_result"
    }
   ],
   "source": [
    "#verifica se existe um elemento na lista\n",
    "3 in lista01"
   ]
  },
  {
   "attachments": {},
   "cell_type": "markdown",
   "metadata": {},
   "source": [
    "## Dicionários\n",
    "\n",
    "Nós temos aprendido sobre sequências em Python, mas agora vamos mudar de engrenagem e aprender sobre mapeamentos em Python. Se você está familiarizado com outras linguagens, pode pensar nestes Dicionários como tabelas de hash.\n",
    "\n",
    "Esta seção servirá como uma breve introdução aos dicionários e consiste em:\n",
    "1.) Construindo um Dicionário\n",
    "2.) Acessando objetos de um dicionário \n",
    "3.) Dicionários de assentamento \n",
    "4.) Métodos básicos do dicionário\n",
    "\n",
    "Então, o que são os mapeamentos? \n",
    "\n",
    "Os mapeamentos são uma coleção de objetos que são armazenados por uma chave, ao contrário de uma seqüência que armazena objetos por sua posição relativa. Esta é uma distinção importante, uma vez que os mapeamentos não reterão a ordem, pois possuem objetos definidos por uma chave.\n",
    "\n",
    "Um dicionário de Python consiste em uma chave e depois em um valor associado. Esse valor\n",
    "pode ser quase qualquer objeto Python.\n",
    "\n",
    "# Construindo um Dicionário\n",
    "\n",
    "Vamos ver como podemos construir dicionários para obter uma melhor compreensão de como eles funcionam!\n"
   ]
  },
  {
   "cell_type": "code",
   "execution_count": 39,
   "metadata": {},
   "outputs": [],
   "source": [
    "# Cria um dicionário com {} e: que significa uma chave e um valor\n",
    "my_dict = {'key1':'value1','key2':'value2'}"
   ]
  },
  {
   "cell_type": "code",
   "execution_count": 40,
   "metadata": {},
   "outputs": [
    {
     "data": {
      "text/plain": [
       "'value2'"
      ]
     },
     "execution_count": 40,
     "metadata": {},
     "output_type": "execute_result"
    }
   ],
   "source": [
    "# Chamando valores pela chave\n",
    "my_dict['key2']"
   ]
  },
  {
   "attachments": {},
   "cell_type": "markdown",
   "metadata": {},
   "source": [
    "É importante notar que os dicionários são muito flexíveis com relação aos tipos de dados\n",
    "que eles podem conter. Por exemplo:"
   ]
  },
  {
   "cell_type": "code",
   "execution_count": 59,
   "metadata": {},
   "outputs": [],
   "source": [
    "my_dict = {'key1':123,'key2':[12,23,33],'key3':['item0','item1','item2']}"
   ]
  },
  {
   "cell_type": "code",
   "execution_count": 42,
   "metadata": {},
   "outputs": [
    {
     "data": {
      "text/plain": [
       "['item0', 'item1', 'item2']"
      ]
     },
     "execution_count": 42,
     "metadata": {},
     "output_type": "execute_result"
    }
   ],
   "source": [
    "# Vamos chamar itens do dicionário\n",
    "my_dict['key3']"
   ]
  },
  {
   "cell_type": "code",
   "execution_count": 43,
   "metadata": {},
   "outputs": [
    {
     "data": {
      "text/plain": [
       "'item0'"
      ]
     },
     "execution_count": 43,
     "metadata": {},
     "output_type": "execute_result"
    }
   ],
   "source": [
    "# Podemos chamar itens de uma lista presente na posição referente à chave 'key\n",
    "my_dict['key3'][0]"
   ]
  },
  {
   "cell_type": "code",
   "execution_count": 45,
   "metadata": {},
   "outputs": [
    {
     "data": {
      "text/plain": [
       "'ITEM0'"
      ]
     },
     "execution_count": 45,
     "metadata": {},
     "output_type": "execute_result"
    }
   ],
   "source": [
    "# Podemos chamar métodos nos itens também\n",
    "# Pode-se visualizar que os comandos são aplicados a partir do retorno do elemento anterior\n",
    "# Como no exemplo --> Dicionário (my_dict['key3']) -> Lista ([0]) -> String (upper())\n",
    "my_dict['key3'][0].upper()"
   ]
  },
  {
   "attachments": {},
   "cell_type": "markdown",
   "metadata": {},
   "source": [
    "Podemos também alterar valores através da chave."
   ]
  },
  {
   "cell_type": "code",
   "execution_count": 46,
   "metadata": {},
   "outputs": [
    {
     "data": {
      "text/plain": [
       "123"
      ]
     },
     "execution_count": 46,
     "metadata": {},
     "output_type": "execute_result"
    }
   ],
   "source": [
    "my_dict['key1']"
   ]
  },
  {
   "cell_type": "code",
   "execution_count": 47,
   "metadata": {},
   "outputs": [],
   "source": [
    "my_dict['key1'] = my_dict['key1'] - 123"
   ]
  },
  {
   "cell_type": "code",
   "execution_count": 48,
   "metadata": {},
   "outputs": [
    {
     "data": {
      "text/plain": [
       "0"
      ]
     },
     "execution_count": 48,
     "metadata": {},
     "output_type": "execute_result"
    }
   ],
   "source": [
    "my_dict['key1']"
   ]
  },
  {
   "attachments": {},
   "cell_type": "markdown",
   "metadata": {},
   "source": [
    "Uma nota rápida: o Python possui um método interno de fazer uma subtração ou adição\n",
    "automática (ou multiplicação ou divisão). Poderíamos ter usado += ou -= para a atribuição.\n",
    "Por exemplo:"
   ]
  },
  {
   "cell_type": "code",
   "execution_count": 49,
   "metadata": {},
   "outputs": [
    {
     "data": {
      "text/plain": [
       "-123"
      ]
     },
     "execution_count": 49,
     "metadata": {},
     "output_type": "execute_result"
    }
   ],
   "source": [
    "# Define o objeto como sendo ele mesmo menos 123\n",
    "my_dict['key1'] -= 123\n",
    "my_dict['key1']"
   ]
  },
  {
   "attachments": {},
   "cell_type": "markdown",
   "metadata": {},
   "source": [
    "Também podemos criar chaves por atribuição. Por exemplo, se começássemos com um\n",
    "dicionário vazio, poderíamos adicionar-lhe continuamente:"
   ]
  },
  {
   "cell_type": "code",
   "execution_count": 50,
   "metadata": {},
   "outputs": [],
   "source": [
    "# Cria um novo dicionário\n",
    "d = {}"
   ]
  },
  {
   "cell_type": "code",
   "execution_count": 51,
   "metadata": {},
   "outputs": [],
   "source": [
    "# Cria uma chave por associoação\n",
    "d['animal'] = 'Dog'"
   ]
  },
  {
   "cell_type": "code",
   "execution_count": 52,
   "metadata": {},
   "outputs": [],
   "source": [
    "# Pode fazer isso com qualquer objeto\n",
    "d['answer'] = 42"
   ]
  },
  {
   "cell_type": "code",
   "execution_count": 54,
   "metadata": {},
   "outputs": [
    {
     "name": "stdout",
     "output_type": "stream",
     "text": [
      "{'animal': 'Dog', 'answer': 42}\n",
      "Dog\n"
     ]
    }
   ],
   "source": [
    "print(d)\n",
    "print(d['animal'])"
   ]
  },
  {
   "attachments": {},
   "cell_type": "markdown",
   "metadata": {},
   "source": [
    "### Aninhamento de Dicionários\n",
    "\n",
    "Espero que você esteja começando a ver o quão poderoso Python é com sua flexibilidade de\n",
    "objetos de nidificação e métodos dos mesmos. Vamos ver um dicionário aninhado dentro de\n",
    "um dicionário:"
   ]
  },
  {
   "cell_type": "code",
   "execution_count": 77,
   "metadata": {},
   "outputs": [],
   "source": [
    "d = {'key1':{'nestkey':{'subnestkey':'value'}}}"
   ]
  },
  {
   "cell_type": "code",
   "execution_count": 78,
   "metadata": {},
   "outputs": [
    {
     "data": {
      "text/plain": [
       "'value'"
      ]
     },
     "execution_count": 78,
     "metadata": {},
     "output_type": "execute_result"
    }
   ],
   "source": [
    "# Continue chamando as chaves...\n",
    "d['key1']['nestkey']['subnestkey']"
   ]
  },
  {
   "attachments": {},
   "cell_type": "markdown",
   "metadata": {},
   "source": [
    "### Alguns métodos de dicionários\n",
    "\n",
    "Existem alguns métodos que podemos chamar em um dicionário. Vamos começar uma breve\n",
    "introdução a alguns deles:"
   ]
  },
  {
   "cell_type": "code",
   "execution_count": 79,
   "metadata": {},
   "outputs": [],
   "source": [
    "# Cria um dicionário típico\n",
    "d = {'key1':1,'key2':2,'key3':3}"
   ]
  },
  {
   "cell_type": "code",
   "execution_count": 86,
   "metadata": {},
   "outputs": [
    {
     "name": "stdout",
     "output_type": "stream",
     "text": [
      "dict_keys(['key1', 'key2', 'key3'])\n",
      "<class 'dict_keys'>\n"
     ]
    }
   ],
   "source": [
    "# Retorna uma lista de todas as chaves\n",
    "print(d.keys())\n",
    "print(type(d.keys()))"
   ]
  },
  {
   "cell_type": "code",
   "execution_count": 87,
   "metadata": {},
   "outputs": [
    {
     "name": "stdout",
     "output_type": "stream",
     "text": [
      "dict_values([1, 2, 3])\n",
      "<class 'dict_values'>\n"
     ]
    }
   ],
   "source": [
    "# Pega todos os valores\n",
    "print(d.values())\n",
    "print(type(d.values()))"
   ]
  },
  {
   "cell_type": "code",
   "execution_count": 88,
   "metadata": {},
   "outputs": [
    {
     "name": "stdout",
     "output_type": "stream",
     "text": [
      "dict_items([('key1', 1), ('key2', 2), ('key3', 3)])\n",
      "<class 'dict_items'>\n"
     ]
    }
   ],
   "source": [
    "# Método para retornar as tuplas de todos os itens (aprenderemos sobre as tuplas)\n",
    "print(d.items())\n",
    "print(type(d.items()))"
   ]
  },
  {
   "cell_type": "code",
   "execution_count": 89,
   "metadata": {},
   "outputs": [
    {
     "name": "stdout",
     "output_type": "stream",
     "text": [
      "{'key1': 123, 'key2': [12, 23, 33], 'key3': ['item0', 'item1', 'item2'], 'nova_chave': 'teste'}\n",
      "{'key1': 123, 'key2': [12, 23, 33], 'key3': ['item0', 'item1', 'item2']}\n"
     ]
    }
   ],
   "source": [
    "#removendo um elemento de um dicionario\n",
    "\n",
    "my_dict['nova_chave'] = 'teste'\n",
    "print(my_dict)\n",
    "my_dict.pop('nova_chave')\n",
    "print(my_dict)"
   ]
  },
  {
   "cell_type": "code",
   "execution_count": 96,
   "metadata": {},
   "outputs": [
    {
     "name": "stdout",
     "output_type": "stream",
     "text": [
      "lista de alunos\n",
      "{1: 'Joao', 2: 'Jose', 3: 'Joaquina', 4: 'Joana'}\n",
      "alunos faltantes\n",
      "{1: 'Joao'}\n",
      "alunos presentes\n",
      "{2: 'Jose', 3: 'Joaquina', 4: 'Joana'}\n"
     ]
    }
   ],
   "source": [
    "#transferindo um elemento de um dicionário para outro dicionário\n",
    "alunos = {1:'Joao',2: 'Jose', 3:'Joaquina', 4:'Joana'}\n",
    "print(\"lista de alunos\")\n",
    "print(alunos)\n",
    "\n",
    "#cria dicionário vazio de alunos faltantes\n",
    "alunos_faltantes={}\n",
    "\n",
    "#Pergunta para o usuário --> Escolha a matricula do aluno que faltou\n",
    "matricula_aluno_faltante = 1\n",
    "\n",
    "#atribui aluno que faltou para o dicionário de alunos faltantes\n",
    "alunos_faltantes[matricula_aluno_faltante] = alunos[matricula_aluno_faltante]\n",
    "print(\"alunos faltantes\")\n",
    "print(alunos_faltantes)\n",
    "\n",
    "#remove o aluno faltante do dicionário de alunos presentes\n",
    "alunos.pop(matricula_aluno_faltante)\n",
    "print(\"alunos presentes\")\n",
    "print(alunos)"
   ]
  },
  {
   "attachments": {},
   "cell_type": "markdown",
   "metadata": {},
   "source": [
    "Espero que você tenha agora um bom entendimento básico para a construção de\n",
    "dicionários. Há muito mais para explorar aqui, mas vamos revisar os dicionários mais tarde.\n",
    "Depois desta seção, tudo o que você precisa saber é como criar um dicionário e como\n",
    "recuperar seus valores."
   ]
  },
  {
   "attachments": {},
   "cell_type": "markdown",
   "metadata": {},
   "source": [
    "## Tuplas\n",
    "\n",
    "Em Python, as tuplas são muito semelhantes às listas, no entanto, ao contrário das listas, elas são imutáveis, o que significa que elas não podem ser alteradas. Você usaria tuplas para\n",
    "apresentar coisas que não deveriam ser alteradas, como dias da semana ou datas em um calendário.\n",
    "\n",
    "Nesta seção, obteremos uma breve visão geral do seguinte:\n",
    "1.) Construindo Tuplas \n",
    "2.) Métodos básicos das Tuplas \n",
    "3.) Imutabilidade \n",
    "4.) Quando usar Tuplas\n",
    "\n",
    "Você terá uma intuição de como usar tuplas com base no que você aprendeu sobre as listas.\n",
    "Nós podemos tratá-los de forma muito semelhante, com a maior distinção é que as tuplas são imutáveis.\n",
    "\n",
    "### Construindo Tuplas\n",
    "\n",
    "A construção de tuplas usa () com elementos separados por vírgulas. Por exemplo:"
   ]
  },
  {
   "cell_type": "code",
   "execution_count": 97,
   "metadata": {},
   "outputs": [],
   "source": [
    "# Pode-se criar uma tupla com múltiplos elementos\n",
    "t = (1,2,3)"
   ]
  },
  {
   "cell_type": "code",
   "execution_count": 98,
   "metadata": {},
   "outputs": [
    {
     "data": {
      "text/plain": [
       "3"
      ]
     },
     "execution_count": 98,
     "metadata": {},
     "output_type": "execute_result"
    }
   ],
   "source": [
    "# O método len() funciona também para tuplas\n",
    "len(t)"
   ]
  },
  {
   "cell_type": "code",
   "execution_count": 99,
   "metadata": {},
   "outputs": [
    {
     "data": {
      "text/plain": [
       "('one', 2)"
      ]
     },
     "execution_count": 99,
     "metadata": {},
     "output_type": "execute_result"
    }
   ],
   "source": [
    "# Você também pode variar os tipos de dados\n",
    "t = ('one',2)\n",
    "# Mostra\n",
    "t"
   ]
  },
  {
   "cell_type": "code",
   "execution_count": 100,
   "metadata": {},
   "outputs": [
    {
     "data": {
      "text/plain": [
       "'one'"
      ]
     },
     "execution_count": 100,
     "metadata": {},
     "output_type": "execute_result"
    }
   ],
   "source": [
    "# E a indexação funciona exatamente como nas listas\n",
    "t[0]"
   ]
  },
  {
   "cell_type": "code",
   "execution_count": 101,
   "metadata": {},
   "outputs": [
    {
     "data": {
      "text/plain": [
       "2"
      ]
     },
     "execution_count": 101,
     "metadata": {},
     "output_type": "execute_result"
    }
   ],
   "source": [
    "# Corte de dados também...\n",
    "t[-1]"
   ]
  },
  {
   "attachments": {},
   "cell_type": "markdown",
   "metadata": {},
   "source": [
    "### Métodos básicos da Tupla\n",
    "\n",
    "As tuplas têm métodos internos, mas não tantas quanto listas. Vamos ver dois deles:"
   ]
  },
  {
   "cell_type": "code",
   "execution_count": 102,
   "metadata": {},
   "outputs": [
    {
     "data": {
      "text/plain": [
       "0"
      ]
     },
     "execution_count": 102,
     "metadata": {},
     "output_type": "execute_result"
    }
   ],
   "source": [
    "# Use .index com o valor de parâmetro para retornar o índice do mesmo\n",
    "t.index('one')"
   ]
  },
  {
   "cell_type": "code",
   "execution_count": 103,
   "metadata": {},
   "outputs": [
    {
     "data": {
      "text/plain": [
       "1"
      ]
     },
     "execution_count": 103,
     "metadata": {},
     "output_type": "execute_result"
    }
   ],
   "source": [
    "# Use .count() para saber quantas vezes determinado elemento apareceu na tupla\n",
    "t.count('one')"
   ]
  },
  {
   "attachments": {},
   "cell_type": "markdown",
   "metadata": {},
   "source": [
    "### Tuplas - Imutabilidade\n",
    "\n",
    "Como mencionado anteriormente, tuplas são imutáveis:"
   ]
  },
  {
   "cell_type": "code",
   "execution_count": 104,
   "metadata": {},
   "outputs": [
    {
     "ename": "TypeError",
     "evalue": "'tuple' object does not support item assignment",
     "output_type": "error",
     "traceback": [
      "\u001b[0;31m---------------------------------------------------------------------------\u001b[0m",
      "\u001b[0;31mTypeError\u001b[0m                                 Traceback (most recent call last)",
      "\u001b[0;32m/tmp/ipykernel_4692/1765062513.py\u001b[0m in \u001b[0;36m<module>\u001b[0;34m\u001b[0m\n\u001b[0;32m----> 1\u001b[0;31m \u001b[0mt\u001b[0m\u001b[0;34m[\u001b[0m\u001b[0;36m0\u001b[0m\u001b[0;34m]\u001b[0m\u001b[0;34m=\u001b[0m \u001b[0;34m'change'\u001b[0m\u001b[0;34m\u001b[0m\u001b[0;34m\u001b[0m\u001b[0m\n\u001b[0m",
      "\u001b[0;31mTypeError\u001b[0m: 'tuple' object does not support item assignment"
     ]
    }
   ],
   "source": [
    "t[0]= 'change'"
   ]
  },
  {
   "cell_type": "code",
   "execution_count": 105,
   "metadata": {},
   "outputs": [
    {
     "ename": "AttributeError",
     "evalue": "'tuple' object has no attribute 'append'",
     "output_type": "error",
     "traceback": [
      "\u001b[0;31m---------------------------------------------------------------------------\u001b[0m",
      "\u001b[0;31mAttributeError\u001b[0m                            Traceback (most recent call last)",
      "\u001b[0;32m/tmp/ipykernel_4692/3007115639.py\u001b[0m in \u001b[0;36m<module>\u001b[0;34m\u001b[0m\n\u001b[0;32m----> 1\u001b[0;31m \u001b[0mt\u001b[0m\u001b[0;34m.\u001b[0m\u001b[0mappend\u001b[0m\u001b[0;34m(\u001b[0m\u001b[0;34m'nope'\u001b[0m\u001b[0;34m)\u001b[0m\u001b[0;34m\u001b[0m\u001b[0;34m\u001b[0m\u001b[0m\n\u001b[0m",
      "\u001b[0;31mAttributeError\u001b[0m: 'tuple' object has no attribute 'append'"
     ]
    }
   ],
   "source": [
    "t.append('nope')"
   ]
  },
  {
   "attachments": {},
   "cell_type": "markdown",
   "metadata": {},
   "source": [
    "### Quando usar tuplas ?\n",
    "\n",
    "Você pode estar se perguntando: \"Por que se preocupar em usar tuplas quando eles têm menos métodos disponíveis?\" Para ser honesto, as tuplas não são usadas tantas vezes como listas na programação, mas são usadas quando a imutabilidade é necessária. Se no seu programa você está passando por um objeto e precisa ter certeza de que ele não seja alterado, então a tupla se tornará sua solução. Ele fornece uma fonte conveniente de integridade de dados.\n",
    "\n",
    "Agora você pode criar e usar suas tuplas em sua programação, bem como ter uma compreensão da sua imutabilidade."
   ]
  },
  {
   "attachments": {},
   "cell_type": "markdown",
   "metadata": {},
   "source": [
    "## Inputs - Entrada de Dados\n",
    "\n",
    "\n",
    "O python possui uma função de captura para as entradas do usuário: a função input(). Quando essa função é chamada, o programa espera o usuário digitar alguma coisa. Quando o usuário aperta a tecla ENTER, o programa processa e imprime na tela o valor digitado em forma de String.\n",
    "\n",
    "Deste modo as entradas de dados serão sempre no formato String, como no exemplo abaixo a variavel salario e a variavel nome serão do tipo String.\n"
   ]
  },
  {
   "cell_type": "code",
   "execution_count": 106,
   "metadata": {},
   "outputs": [],
   "source": [
    "salario = input(\"Entre com o seu salario:\")"
   ]
  },
  {
   "cell_type": "code",
   "execution_count": 107,
   "metadata": {},
   "outputs": [],
   "source": [
    "nome = input(\"Entre com o seu nome:\")"
   ]
  },
  {
   "attachments": {},
   "cell_type": "markdown",
   "metadata": {},
   "source": [
    "Para verificarmos o tipo de dados que foi inserido nas variáveis salario e nome podemos utilizar a função type()."
   ]
  },
  {
   "cell_type": "code",
   "execution_count": 108,
   "metadata": {},
   "outputs": [
    {
     "name": "stdout",
     "output_type": "stream",
     "text": [
      "<class 'str'>\n",
      "<class 'str'>\n"
     ]
    }
   ],
   "source": [
    "print(type(salario))\n",
    "print(type(nome))\n"
   ]
  },
  {
   "attachments": {},
   "cell_type": "markdown",
   "metadata": {},
   "source": [
    "### Conversão de tipos\n",
    "\n",
    "A função input() lê o valor digitado pelo usuário como uma string.\n",
    "\n",
    "Se o usuário digitar o número 1400 a variável salario armazenará a string 1400, podemos checar isso com a função type(), como visualizamos anteriormente.\n",
    "\n",
    "Para conseguirmos receber um valor inteiro ou decimal devemos utilizar funções de conversão: int(), float() ou complex() se por acaso utilizarmos números complexos. Podemos também fazer a conversão de númericos para string com a função str()."
   ]
  },
  {
   "cell_type": "code",
   "execution_count": 109,
   "metadata": {},
   "outputs": [
    {
     "name": "stdout",
     "output_type": "stream",
     "text": [
      "1400.5\n",
      "<class 'float'>\n"
     ]
    }
   ],
   "source": [
    "salario = float(input(\"Entre com o seu salaro\"))\n",
    "print(salario)\n",
    "print(type(salario))"
   ]
  },
  {
   "attachments": {},
   "cell_type": "markdown",
   "metadata": {},
   "source": [
    "No exemplo acima a função input() receberá um valor String que será convertido para o tipo float pela função float() e armazenado na variavel salario."
   ]
  },
  {
   "attachments": {},
   "cell_type": "markdown",
   "metadata": {},
   "source": [
    "## Sets e Boleanos\n",
    "\n",
    "Existem dois outros tipos de objeto em Python que devemos cobrir rapidamente. Conjuntos (Sets) e Boleanos."
   ]
  },
  {
   "attachments": {},
   "cell_type": "markdown",
   "metadata": {},
   "source": [
    "### Set's\n",
    "\n",
    "Os conjuntos são uma coleção não ordenada de elementos únicos. Podemos construí-los usando a função set(). Avançemos e façamos um conjunto para ver como funciona:\n",
    "\n"
   ]
  },
  {
   "cell_type": "code",
   "execution_count": 110,
   "metadata": {},
   "outputs": [
    {
     "name": "stdout",
     "output_type": "stream",
     "text": [
      "set()\n"
     ]
    }
   ],
   "source": [
    "x = set()\n",
    "print(x)"
   ]
  },
  {
   "cell_type": "code",
   "execution_count": 112,
   "metadata": {},
   "outputs": [
    {
     "name": "stdout",
     "output_type": "stream",
     "text": [
      "{1}\n"
     ]
    }
   ],
   "source": [
    "#adiciona elementos com o método add()\n",
    "x.add(1)\n",
    "print(x)"
   ]
  },
  {
   "attachments": {},
   "cell_type": "markdown",
   "metadata": {},
   "source": [
    "Observe os colchetes. Isso não indica um dicionário! Embora você possa montar analogias como um set sendo um dicionário com apenas chaves. Sabemos que um conjunto tem apenas entradas únicas. Então, o que acontece quando tentamos adicionar algo que já está em um conjunto?"
   ]
  },
  {
   "cell_type": "code",
   "execution_count": 113,
   "metadata": {},
   "outputs": [
    {
     "name": "stdout",
     "output_type": "stream",
     "text": [
      "{1, 2}\n"
     ]
    }
   ],
   "source": [
    "# Adiciona um elemento novo\n",
    "x.add(2)\n",
    "print(x)"
   ]
  },
  {
   "cell_type": "code",
   "execution_count": 119,
   "metadata": {},
   "outputs": [
    {
     "name": "stdout",
     "output_type": "stream",
     "text": [
      "{1, 2}\n"
     ]
    }
   ],
   "source": [
    "# Adiciona o mesmo elemento\n",
    "x.add(1)\n",
    "print(x)"
   ]
  },
  {
   "attachments": {},
   "cell_type": "markdown",
   "metadata": {},
   "source": [
    "Observe como ele não colocará mais 1 lá. Isso porque um conjunto apenas se ocupa de elementos exclusivos! Podemos transformar uma lista com múltiplos elementos repetidos para um conjunto para obter os elementos exclusivos. Por exemplo:"
   ]
  },
  {
   "cell_type": "code",
   "execution_count": 120,
   "metadata": {},
   "outputs": [],
   "source": [
    "# Cria uma lista com elementos repetidos\n",
    "l = [1,1,2,2,3,4,5,6,1,1]"
   ]
  },
  {
   "cell_type": "code",
   "execution_count": 121,
   "metadata": {},
   "outputs": [
    {
     "data": {
      "text/plain": [
       "{1, 2, 3, 4, 5, 6}"
      ]
     },
     "execution_count": 121,
     "metadata": {},
     "output_type": "execute_result"
    }
   ],
   "source": [
    "# Transforma em um set com elementos únicos\n",
    "set(l)"
   ]
  },
  {
   "attachments": {},
   "cell_type": "markdown",
   "metadata": {},
   "source": [
    "### Boleanos\n",
    "\n",
    "O Python possui também Booleanos (com True e False predefinidas que são basicamente apenas os números inteiros 1 e 0). Ele também possui um objeto reservado chamado None. \n",
    "\n",
    "Passemos por alguns exemplos rápidos de booleanos (vamos mergulhar mais profundamente neles mais tarde neste curso)."
   ]
  },
  {
   "cell_type": "code",
   "execution_count": 122,
   "metadata": {},
   "outputs": [
    {
     "name": "stdout",
     "output_type": "stream",
     "text": [
      "True\n"
     ]
    }
   ],
   "source": [
    "# Define um objeto como True\n",
    "a = True\n",
    "print(a)"
   ]
  },
  {
   "attachments": {},
   "cell_type": "markdown",
   "metadata": {},
   "source": [
    "Também podemos usar operadores de comparação para criar booleanos. Examinaremos todos os operadores de comparação mais tarde no curso."
   ]
  },
  {
   "cell_type": "code",
   "execution_count": 123,
   "metadata": {},
   "outputs": [
    {
     "data": {
      "text/plain": [
       "False"
      ]
     },
     "execution_count": 123,
     "metadata": {},
     "output_type": "execute_result"
    }
   ],
   "source": [
    "# O output é boleano\n",
    "1 > 2"
   ]
  },
  {
   "attachments": {},
   "cell_type": "markdown",
   "metadata": {},
   "source": [
    "Nós podemos usar None como um espaço reservado para um objeto que não queremos reatribuir ainda:"
   ]
  },
  {
   "cell_type": "code",
   "execution_count": 124,
   "metadata": {},
   "outputs": [],
   "source": [
    "b = None"
   ]
  },
  {
   "attachments": {},
   "cell_type": "markdown",
   "metadata": {},
   "source": [
    "É isso aí! Agora você deve ter uma compreensão básica de objetos Python e tipos de estrutura de dados. Em seguida, vá em frente e faça o teste de avaliação!"
   ]
  },
  {
   "attachments": {},
   "cell_type": "markdown",
   "metadata": {},
   "source": [
    "## Operadores de Comparação\n",
    "\n",
    "Nesta aula estaremos aprendendo sobre Operadores de Comparação em Python. Esses operadores nos permitirão comparar variáveis e produzir um valor booleano (Verdadeiro ou\n",
    "Falso).\n",
    "\n",
    "Se você tiver alguma base em Matemática, esses operadores devem ser muito diretos.\n",
    "\n",
    "Em primeiro lugar, apresentaremos uma tabela dos operadores de comparação e depois trabalharemos com alguns exemplos:\n",
    "\n",
    "### Tabela de operações de comparação\n",
    "\n",
    "|Operador  |Descrição   |Exemplo   |\n",
    "|---|---|---|\n",
    "|==   |se os valores de dois operadores forem iguais a condição se torna verdadeira   | (1==2) não é verdade   |\n",
    "|!=   |se os valores de dois operadores não forem iguais a condição torna-se verdadeira   | (1!=2) é verdadeiro  |\n",
    "|>   |se o valor do operando esquerdo for maior que o valor do operando direito, a condição é verdadeira  | 1>2 não é verdadeiro   |\n",
    "|<   |se o valor do operando esquerdo for menor que o valor do operando direito, a condição é verdadeira   | 1<2 é verdadeiro  |\n",
    "|>=   |se o valor do operando esquerdo for maior ou igual que o valor do operando direito, a condição é verdadeira   | 1>=2 não é verdadeiro  |\n",
    "|<=   |se o valor do operando esquerdo for menor ou igual que o valor do operando direito, a condição é verdadeira   | 1<=2 é verdadeiro  |\n",
    "\n",
    "Vamos verificar alguns exemplos:"
   ]
  },
  {
   "cell_type": "code",
   "execution_count": 125,
   "metadata": {},
   "outputs": [
    {
     "data": {
      "text/plain": [
       "True"
      ]
     },
     "execution_count": 125,
     "metadata": {},
     "output_type": "execute_result"
    }
   ],
   "source": [
    "#igualdade\n",
    "2 == 2"
   ]
  },
  {
   "cell_type": "code",
   "execution_count": 126,
   "metadata": {},
   "outputs": [
    {
     "data": {
      "text/plain": [
       "False"
      ]
     },
     "execution_count": 126,
     "metadata": {},
     "output_type": "execute_result"
    }
   ],
   "source": [
    "#igualdade\n",
    "1 == 0"
   ]
  },
  {
   "cell_type": "code",
   "execution_count": 127,
   "metadata": {},
   "outputs": [
    {
     "data": {
      "text/plain": [
       "True"
      ]
     },
     "execution_count": 127,
     "metadata": {},
     "output_type": "execute_result"
    }
   ],
   "source": [
    "#desigualdade\n",
    "2 != 1"
   ]
  },
  {
   "cell_type": "code",
   "execution_count": 128,
   "metadata": {},
   "outputs": [
    {
     "data": {
      "text/plain": [
       "False"
      ]
     },
     "execution_count": 128,
     "metadata": {},
     "output_type": "execute_result"
    }
   ],
   "source": [
    "#desigualdade\n",
    "2 != 2"
   ]
  },
  {
   "cell_type": "code",
   "execution_count": 129,
   "metadata": {},
   "outputs": [
    {
     "data": {
      "text/plain": [
       "True"
      ]
     },
     "execution_count": 129,
     "metadata": {},
     "output_type": "execute_result"
    }
   ],
   "source": [
    "#maior que\n",
    "2 > 1"
   ]
  },
  {
   "cell_type": "code",
   "execution_count": 130,
   "metadata": {},
   "outputs": [
    {
     "data": {
      "text/plain": [
       "False"
      ]
     },
     "execution_count": 130,
     "metadata": {},
     "output_type": "execute_result"
    }
   ],
   "source": [
    "#maior que\n",
    "2 > 4"
   ]
  },
  {
   "cell_type": "code",
   "execution_count": 131,
   "metadata": {},
   "outputs": [
    {
     "data": {
      "text/plain": [
       "True"
      ]
     },
     "execution_count": 131,
     "metadata": {},
     "output_type": "execute_result"
    }
   ],
   "source": [
    "#menor que\n",
    "2 < 4"
   ]
  },
  {
   "cell_type": "code",
   "execution_count": 132,
   "metadata": {},
   "outputs": [
    {
     "data": {
      "text/plain": [
       "False"
      ]
     },
     "execution_count": 132,
     "metadata": {},
     "output_type": "execute_result"
    }
   ],
   "source": [
    "#menor que\n",
    "2 < 1"
   ]
  },
  {
   "cell_type": "code",
   "execution_count": 133,
   "metadata": {},
   "outputs": [
    {
     "data": {
      "text/plain": [
       "True"
      ]
     },
     "execution_count": 133,
     "metadata": {},
     "output_type": "execute_result"
    }
   ],
   "source": [
    "#maior igual que\n",
    "2 >= 2"
   ]
  },
  {
   "cell_type": "code",
   "execution_count": 134,
   "metadata": {},
   "outputs": [
    {
     "data": {
      "text/plain": [
       "True"
      ]
     },
     "execution_count": 134,
     "metadata": {},
     "output_type": "execute_result"
    }
   ],
   "source": [
    "#maior igual que\n",
    "2 >= 1"
   ]
  },
  {
   "cell_type": "code",
   "execution_count": 135,
   "metadata": {},
   "outputs": [
    {
     "data": {
      "text/plain": [
       "True"
      ]
     },
     "execution_count": 135,
     "metadata": {},
     "output_type": "execute_result"
    }
   ],
   "source": [
    "#menor igual que\n",
    "2 <= 2"
   ]
  },
  {
   "cell_type": "code",
   "execution_count": 136,
   "metadata": {},
   "outputs": [
    {
     "data": {
      "text/plain": [
       "True"
      ]
     },
     "execution_count": 136,
     "metadata": {},
     "output_type": "execute_result"
    }
   ],
   "source": [
    "#menor igual que\n",
    "2 <= 4"
   ]
  },
  {
   "attachments": {},
   "cell_type": "markdown",
   "metadata": {},
   "source": [
    "## Operadores de Comparação em cadeia\n",
    "\n",
    "Uma característica interessante do Python é a capacidade de encadear comparações múltiplas para realizar um teste mais complexo. Você pode usar essas comparações em cadeia como uma abreviatura para expressões booleanas maiores. Nesta etapa, aprenderemos como encadear operadores de comparação e também apresentamos duas outras declarações importantes em python: and e or.\n",
    "\n",
    "### Tabela de operações de lógicos\n",
    "\n",
    "|Operador  |Descrição   |Exemplo   |\n",
    "|---|---|---|\n",
    "|not   | não   | not (a = 5)   |\n",
    "|and   | e   | (a <= 10) and (c = 5)  |\n",
    "|or | ou  | (a <= 10) or (c = 5)   |\n",
    "\n",
    "Vamos verificar alguns exemplos:\n",
    "\n",
    "No exemplo abaixo verifica-se se 1 é inferior a 2 e se 2 é inferior a 3. Poderiamos ter escrito utilizando a instrução \"and\" no python."
   ]
  },
  {
   "cell_type": "code",
   "execution_count": 137,
   "metadata": {},
   "outputs": [
    {
     "data": {
      "text/plain": [
       "True"
      ]
     },
     "execution_count": 137,
     "metadata": {},
     "output_type": "execute_result"
    }
   ],
   "source": [
    "#exemplo de cadeia de comparação\n",
    "1 < 2 < 3"
   ]
  },
  {
   "cell_type": "code",
   "execution_count": 138,
   "metadata": {},
   "outputs": [
    {
     "data": {
      "text/plain": [
       "True"
      ]
     },
     "execution_count": 138,
     "metadata": {},
     "output_type": "execute_result"
    }
   ],
   "source": [
    "#mesmo exemplo utilizando o \"and\"\n",
    "(1<2) and (2<3)"
   ]
  },
  {
   "attachments": {},
   "cell_type": "markdown",
   "metadata": {},
   "source": [
    "O and é usado para garantir que as duas verificações tenham que ser verdadeiras para que a verificação total seja verdadeira. Vamos ver outro exemplo:"
   ]
  },
  {
   "cell_type": "code",
   "execution_count": 139,
   "metadata": {},
   "outputs": [
    {
     "data": {
      "text/plain": [
       "True"
      ]
     },
     "execution_count": 139,
     "metadata": {},
     "output_type": "execute_result"
    }
   ],
   "source": [
    "1 < 3 > 2"
   ]
  },
  {
   "attachments": {},
   "cell_type": "markdown",
   "metadata": {},
   "source": [
    "As verificações acima checam se 3 é maior do que os outros números. Você pode usar \"and\" para reescrevê-lo como:"
   ]
  },
  {
   "cell_type": "code",
   "execution_count": 140,
   "metadata": {},
   "outputs": [
    {
     "data": {
      "text/plain": [
       "True"
      ]
     },
     "execution_count": 140,
     "metadata": {},
     "output_type": "execute_result"
    }
   ],
   "source": [
    "1<3 and 3>2"
   ]
  },
  {
   "attachments": {},
   "cell_type": "markdown",
   "metadata": {},
   "source": [
    "É importante notar que o Python está verificando ambas as instâncias das comparações. Nós também podemos usar \"or\" para escrever comparações em Python. Por exemplo:"
   ]
  },
  {
   "cell_type": "code",
   "execution_count": 141,
   "metadata": {},
   "outputs": [
    {
     "data": {
      "text/plain": [
       "True"
      ]
     },
     "execution_count": 141,
     "metadata": {},
     "output_type": "execute_result"
    }
   ],
   "source": [
    "1==2 or 2<3"
   ]
  },
  {
   "attachments": {},
   "cell_type": "markdown",
   "metadata": {},
   "source": [
    "Observe como a expressão retornou True porque com o operador ou precisamos apenas um ou os outros dois sejam verdadeiros. Outro exemplo:"
   ]
  },
  {
   "cell_type": "code",
   "execution_count": 142,
   "metadata": {},
   "outputs": [
    {
     "data": {
      "text/plain": [
       "True"
      ]
     },
     "execution_count": 142,
     "metadata": {},
     "output_type": "execute_result"
    }
   ],
   "source": [
    "1==1 or 100==1"
   ]
  },
  {
   "attachments": {},
   "cell_type": "markdown",
   "metadata": {},
   "source": [
    "## If, elif e else\n",
    "\n",
    "If em Python nos permite contar ao computador para executar ações alternativas com base em um determinado conjunto de resultados. Verbalmente, podemos imaginar que estamos informando o computador:\n",
    "\n",
    "\"Ei, se isso caso acontecer, execute alguma ação\" Podemos então expandir a idéia com declarações elif e else, o que nos permite contar ao computador:\n",
    "\n",
    "\"Ei, se esse caso acontecer, execute alguma ação. Caso contrário, se aquilo dali acontecer, execute alguma outra ação. Caso contrário, nenhum dos casos acima aconteceu, execute esta ação\" \n",
    "\n",
    "Avançemos e vejamos o formato de sintaxe para as instruções if para ter uma idéia melhor disso:\n",
    "\n",
    "if case1: executar ação1 elif case2: execute ação2 else: execute a ação 3\n",
    "\n",
    "### Primeiro exemplo\n",
    "\n",
    "Vamos ver um exemplo rápido disso:"
   ]
  },
  {
   "cell_type": "code",
   "execution_count": 145,
   "metadata": {},
   "outputs": [
    {
     "name": "stdout",
     "output_type": "stream",
     "text": [
      "It was true!\n"
     ]
    }
   ],
   "source": [
    "if True:\n",
    "    print('It was true!')"
   ]
  },
  {
   "attachments": {},
   "cell_type": "markdown",
   "metadata": {},
   "source": [
    "Vamos adicionar outra lógica!"
   ]
  },
  {
   "cell_type": "code",
   "execution_count": 146,
   "metadata": {},
   "outputs": [
    {
     "name": "stdout",
     "output_type": "stream",
     "text": [
      "I will be printed in any case where x is not true\n"
     ]
    }
   ],
   "source": [
    "x = False\n",
    "if x:\n",
    "    print('x was True!')\n",
    "else:\n",
    "    print('I will be printed in any case where x is not true')"
   ]
  },
  {
   "attachments": {},
   "cell_type": "markdown",
   "metadata": {},
   "source": [
    "### Múltiplos ramos\n",
    "\n",
    "Vamos ver de forma mais completa de quão longe if, elif, e else podem nos levar! Nós escrevemos isso em uma estrutura aninhada. Tome nota de como o if, elif e else se alinham no código. Isso pode ajudá-lo a ver o que se relaciona com o elif ou outras afirmações. Vamos reintroduzir uma sintaxe de comparação para o Python."
   ]
  },
  {
   "cell_type": "code",
   "execution_count": 147,
   "metadata": {},
   "outputs": [
    {
     "name": "stdout",
     "output_type": "stream",
     "text": [
      "Welcome to the bank!\n"
     ]
    }
   ],
   "source": [
    "loc = 'Bank'\n",
    "if loc == 'Auto Shop':\n",
    "    print('Welcome to the Auto Shop!')\n",
    "elif loc == 'Bank':\n",
    "    print('Welcome to the bank!')\n",
    "else:\n",
    "    print(\"Where are you?\")"
   ]
  },
  {
   "attachments": {},
   "cell_type": "markdown",
   "metadata": {},
   "source": [
    "Observe como as declarações if aninhadas são verificadas até que um booleano True faça com que o código aninhado abaixo seja executado. Você também deve notar que você pode colocar as declarações elif quanto desejar antes de fechar com outra. Vamos criar dois exemplos mais simples para as afirmações if, elif e else:"
   ]
  },
  {
   "cell_type": "code",
   "execution_count": 148,
   "metadata": {},
   "outputs": [
    {
     "name": "stdout",
     "output_type": "stream",
     "text": [
      "Welcome Sammy!\n"
     ]
    }
   ],
   "source": [
    "person = 'Sammy'\n",
    "if person == 'Sammy':\n",
    "    print('Welcome Sammy!')\n",
    "else:\n",
    "    print(\"Welcome, what's your name?\")"
   ]
  },
  {
   "cell_type": "code",
   "execution_count": 149,
   "metadata": {},
   "outputs": [
    {
     "name": "stdout",
     "output_type": "stream",
     "text": [
      "Welcome George!\n"
     ]
    }
   ],
   "source": [
    "person = 'George'\n",
    "if person == 'Sammy':\n",
    "    print('Welcome Sammy!')\n",
    "elif person =='George':\n",
    "    print(\"Welcome George!\")\n",
    "else:\n",
    "    print(\"Welcome, what's your name?\")"
   ]
  },
  {
   "attachments": {},
   "cell_type": "markdown",
   "metadata": {},
   "source": [
    "### Indentação - Novamente!!\n",
    "\n",
    "É importante manter uma boa compreensão de como o recuo funciona no Python para manter a estrutura e a ordem do seu código. Vamos voltar a tocar neste tópico quando começarmos a criar funções!"
   ]
  },
  {
   "attachments": {},
   "cell_type": "markdown",
   "metadata": {},
   "source": [
    "## Função Range()\n",
    "\n",
    "Nesta aula curta estaremos discutindo a função range(). Ainda não desenvolvemos um nível muito profundo de conhecimento de funções, mas podemos entender o básico desta função simples (mas extremamente útil!). \n",
    "\n",
    "A função range() nos permite criar uma lista de números que variam de um ponto de partida até um ponto final. Também podemos especificar o tamanho do passo. Vamos percorrer alguns exemplos:"
   ]
  },
  {
   "cell_type": "code",
   "execution_count": 152,
   "metadata": {},
   "outputs": [
    {
     "data": {
      "text/plain": [
       "range(0, 10)"
      ]
     },
     "execution_count": 152,
     "metadata": {},
     "output_type": "execute_result"
    }
   ],
   "source": [
    "range(0,10)"
   ]
  },
  {
   "cell_type": "code",
   "execution_count": 153,
   "metadata": {},
   "outputs": [
    {
     "name": "stdout",
     "output_type": "stream",
     "text": [
      "range(0, 10)\n"
     ]
    }
   ],
   "source": [
    "x =range(0,10)\n",
    "type(x)\n",
    "print(x)"
   ]
  },
  {
   "cell_type": "code",
   "execution_count": 154,
   "metadata": {},
   "outputs": [],
   "source": [
    "inicio_range = 0 #valor padrão de inicio de um range\n",
    "final_range = 20\n",
    "x = range(inicio_range,final_range)"
   ]
  },
  {
   "cell_type": "code",
   "execution_count": 155,
   "metadata": {},
   "outputs": [
    {
     "data": {
      "text/plain": [
       "[0, 1, 2, 3, 4, 5, 6, 7, 8, 9, 10, 11, 12, 13, 14, 15, 16, 17, 18, 19]"
      ]
     },
     "execution_count": 155,
     "metadata": {},
     "output_type": "execute_result"
    }
   ],
   "source": [
    "# transformando um range em uma lista para exibição dos valores gerados\n",
    "list(x)"
   ]
  },
  {
   "attachments": {},
   "cell_type": "markdown",
   "metadata": {},
   "source": [
    "Ótimo! Observe como foi até 20, mas na verdade não produz 20. Assim como na indexação.\n",
    "\n",
    "E o tamanho do passo? Podemos especificar isso como um terceiro argumento:"
   ]
  },
  {
   "cell_type": "code",
   "execution_count": 157,
   "metadata": {},
   "outputs": [
    {
     "data": {
      "text/plain": [
       "[0, 2, 4, 6, 8, 10, 12, 14, 16, 18]"
      ]
     },
     "execution_count": 157,
     "metadata": {},
     "output_type": "execute_result"
    }
   ],
   "source": [
    "#gera um range que inicia no valor de inicio_range e finaliza no valor da variavel final_range contando de 2 em 2\n",
    "x = range(inicio_range,final_range,2)\n",
    "# Mostrar\n",
    "x\n",
    "#lista\n",
    "list(x)"
   ]
  },
  {
   "attachments": {},
   "cell_type": "markdown",
   "metadata": {},
   "source": [
    "Impressionante! Bem, é isso ... ou não?\n",
    "\n",
    "Você pode estar se perguntando, o que acontece se eu quiser usar uma grande variedade de números? O meu computador pode armazenar tudo na memória?\n",
    "\n",
    "Grande pensamento! Este é um dilema que pode ser resolvido com o uso de um gerador. Para uma explicação simplificada: um gerador permite a geração de objetos gerados que são fornecidos naquela instância, mas não armazena cada instância gerada na memória.Isso significa que um gerador não criaria uma lista ao gerar um range(), mas, em vez disso, fornece uma geração única dos números nesse intervalo. A boa notítica é que range() se comporta como um gerador e você não precisa se preocupar com isso."
   ]
  },
  {
   "attachments": {},
   "cell_type": "markdown",
   "metadata": {},
   "source": [
    "## Laços\n",
    "\n",
    "### For\n",
    "\n",
    "Um loop for atua como um iterador em Python, ele passa por itens que estão em uma sequência ou qualquer outro item iterável. Os objetos que aprendemos até agora que podemos iterar incluem strings, listas, tuplas e até iteráveis embutidos em dicionários, como chaves ou valores.\n",
    "\n",
    "Já vimos for um pouco nas palestras passadas, mas agora permitimos formalizar a nossa\n",
    "compreensão. Aqui está o formato geral para um for loop em Python:\n",
    "\n",
    "for item in objeto: fazer algo\n",
    "\n",
    "O nome da variável usado para o item fica a seu critério, você pode escolher o que quiser. Então use seu melhor julgamento para escolher um nome que faça sentido e que você poderá entender ao revisar seu código. Este nome do item pode então ser referenciado dentro de seu loop, por exemplo, se você quisesse usar instruções if para executar verificações.\n",
    "\n",
    "Vamos seguir em frente e trabalhar com vários exemplos de for loops usando uma variedade de tipos de objetos de dados. Vamos começar com um exemplo simples e adicionar mais complexidade mais além.\n",
    "\n",
    "Exemplo 1\n",
    "Iterando através de uma lista."
   ]
  },
  {
   "cell_type": "code",
   "execution_count": 158,
   "metadata": {},
   "outputs": [
    {
     "name": "stdout",
     "output_type": "stream",
     "text": [
      "1\n",
      "2\n",
      "3\n",
      "4\n",
      "5\n",
      "6\n",
      "7\n",
      "8\n",
      "9\n",
      "10\n"
     ]
    }
   ],
   "source": [
    "#dado uma lista\n",
    "l = [1,2,3,4,5,6,7,8,9,10]\n",
    "#percorra a lista com um for\n",
    "for num in l:\n",
    "    print(num)"
   ]
  },
  {
   "attachments": {},
   "cell_type": "markdown",
   "metadata": {},
   "source": [
    "Agora vamos substituir a lista por um range, lembrando que a função range gera uma faixa de valores."
   ]
  },
  {
   "cell_type": "code",
   "execution_count": 159,
   "metadata": {},
   "outputs": [
    {
     "name": "stdout",
     "output_type": "stream",
     "text": [
      "1\n",
      "2\n",
      "3\n",
      "4\n",
      "5\n",
      "6\n",
      "7\n",
      "8\n",
      "9\n",
      "10\n"
     ]
    }
   ],
   "source": [
    "#percorra a range com um for, para gerarmos a \n",
    "#mesma saída do exemplo anterior temos que nos lembrar que a \n",
    "#faixa final do range não está inclusa na contagem.\n",
    "for num in range(1,11):\n",
    "    print(num)"
   ]
  },
  {
   "cell_type": "code",
   "execution_count": 160,
   "metadata": {},
   "outputs": [
    {
     "name": "stdout",
     "output_type": "stream",
     "text": [
      "1\n",
      "3\n",
      "5\n",
      "7\n",
      "9\n"
     ]
    }
   ],
   "source": [
    "#for com step 2\n",
    "for num in range(1,11,2):\n",
    "    print(num)"
   ]
  },
  {
   "attachments": {},
   "cell_type": "markdown",
   "metadata": {},
   "source": [
    "Agora vamos combinar com a função if para verificar os números pares em uma sequência.\n",
    "\n",
    "Para isso devemos calcular o módulo (resto da divisão), veja o exemplo:"
   ]
  },
  {
   "cell_type": "code",
   "execution_count": 161,
   "metadata": {},
   "outputs": [
    {
     "data": {
      "text/plain": [
       "2"
      ]
     },
     "execution_count": 161,
     "metadata": {},
     "output_type": "execute_result"
    }
   ],
   "source": [
    "17 % 3 #número impar temos resto"
   ]
  },
  {
   "cell_type": "code",
   "execution_count": 162,
   "metadata": {},
   "outputs": [
    {
     "data": {
      "text/plain": [
       "0"
      ]
     },
     "execution_count": 162,
     "metadata": {},
     "output_type": "execute_result"
    }
   ],
   "source": [
    "12 % 4 #número par sem resto na divisão"
   ]
  },
  {
   "attachments": {},
   "cell_type": "markdown",
   "metadata": {},
   "source": [
    "Observe que se um número é totalmente divisível sem restante, o resultado do módulo é 0. Podemos usar isso para testar números pares, pois se um número nódulo 2 for igual a 0, isso significa que é um número par! Volte para o for!\n",
    "\n",
    "Então vamos imprimir apenas os números pares de uma sequência."
   ]
  },
  {
   "cell_type": "code",
   "execution_count": 163,
   "metadata": {},
   "outputs": [
    {
     "name": "stdout",
     "output_type": "stream",
     "text": [
      "2\n",
      "4\n",
      "6\n",
      "8\n",
      "10\n",
      "12\n",
      "14\n",
      "16\n",
      "18\n",
      "20\n"
     ]
    }
   ],
   "source": [
    "#imprimindo os números pares de uma sequencia.\n",
    "for num in range(1,21):\n",
    "    if num%2 == 0:\n",
    "        print(num)"
   ]
  },
  {
   "cell_type": "code",
   "execution_count": 164,
   "metadata": {},
   "outputs": [
    {
     "name": "stdout",
     "output_type": "stream",
     "text": [
      "Impar : 1\n",
      "Par : 2\n",
      "Impar : 3\n",
      "Par : 4\n",
      "Impar : 5\n",
      "Par : 6\n",
      "Impar : 7\n",
      "Par : 8\n",
      "Impar : 9\n",
      "Par : 10\n",
      "Impar : 11\n",
      "Par : 12\n",
      "Impar : 13\n",
      "Par : 14\n",
      "Impar : 15\n",
      "Par : 16\n",
      "Impar : 17\n",
      "Par : 18\n",
      "Impar : 19\n",
      "Par : 20\n"
     ]
    }
   ],
   "source": [
    "#podemos também utilizar o elif\n",
    "for num in range(1,21):\n",
    "    if num%2 == 0:\n",
    "        print(\"Par : {}\".format(num))\n",
    "    else:\n",
    "        print(\"Impar : {}\".format(num))\n"
   ]
  },
  {
   "attachments": {},
   "cell_type": "markdown",
   "metadata": {},
   "source": [
    "Outra idéia comum durante um for é manter algum tipo de contagem durante os vários loops. Por exemplo, vamos criar um loop for que resume a lista:"
   ]
  },
  {
   "cell_type": "code",
   "execution_count": 165,
   "metadata": {},
   "outputs": [
    {
     "name": "stdout",
     "output_type": "stream",
     "text": [
      "soma --> 210\n"
     ]
    }
   ],
   "source": [
    "range_sum = 0\n",
    "for num in range(1,21):\n",
    "    range_sum = range_sum + num\n",
    "print(\"soma --> {}\".format(range_sum))"
   ]
  },
  {
   "attachments": {},
   "cell_type": "markdown",
   "metadata": {},
   "source": [
    "A acumulação dos valores também pode ser realizada utilizando o operador \"+=\""
   ]
  },
  {
   "cell_type": "code",
   "execution_count": 166,
   "metadata": {},
   "outputs": [
    {
     "name": "stdout",
     "output_type": "stream",
     "text": [
      "soma --> 210\n"
     ]
    }
   ],
   "source": [
    "range_sum = 0\n",
    "for num in range(1,21):\n",
    "    range_sum += num #observe a diferença nesta linha em relação ao ex. anterior\n",
    "print(\"soma --> {}\".format(range_sum))"
   ]
  },
  {
   "attachments": {},
   "cell_type": "markdown",
   "metadata": {},
   "source": [
    "Nós usamos para loops com listas, e as strings? Lembre-se de que as strings são uma seqüência, então, quando iteramos através delas, estaremos acessando cada item nessa seqüência de caracteres."
   ]
  },
  {
   "cell_type": "code",
   "execution_count": 167,
   "metadata": {},
   "outputs": [
    {
     "name": "stdout",
     "output_type": "stream",
     "text": [
      "T\n",
      "h\n",
      "i\n",
      "s\n",
      " \n",
      "i\n",
      "s\n",
      " \n",
      "a\n",
      " \n",
      "s\n",
      "t\n",
      "r\n",
      "i\n",
      "n\n",
      "g\n",
      ".\n"
     ]
    }
   ],
   "source": [
    "for letter in 'This is a string.':\n",
    "    print(letter)"
   ]
  },
  {
   "attachments": {},
   "cell_type": "markdown",
   "metadata": {},
   "source": [
    "E as tuplas?"
   ]
  },
  {
   "cell_type": "code",
   "execution_count": 168,
   "metadata": {},
   "outputs": [
    {
     "name": "stdout",
     "output_type": "stream",
     "text": [
      "1\n",
      "2\n",
      "3\n",
      "4\n",
      "5\n"
     ]
    }
   ],
   "source": [
    "tup = (1,2,3,4,5)\n",
    "for t in tup:\n",
    "    print(t)"
   ]
  },
  {
   "attachments": {},
   "cell_type": "markdown",
   "metadata": {},
   "source": [
    "As Tuplas têm uma qualidade especial quando se trata de fors. Se você está iterando através de uma seqüência que contém tuplas, o item pode realmente ser a própria tupla, este é um exemplo de desembalagem de tuplas . Durante o for, estaremos desembalando a tupla dentro de uma seqüência e podemos acessar os itens individuais dentro dessa tupla!"
   ]
  },
  {
   "cell_type": "code",
   "execution_count": 169,
   "metadata": {},
   "outputs": [
    {
     "name": "stdout",
     "output_type": "stream",
     "text": [
      "(2, 4)\n",
      "(6, 8)\n",
      "(10, 12)\n"
     ]
    }
   ],
   "source": [
    "l = [(2,4),(6,8),(10,12)]\n",
    "for tup in l:\n",
    "    print(tup)"
   ]
  },
  {
   "cell_type": "code",
   "execution_count": 170,
   "metadata": {},
   "outputs": [
    {
     "name": "stdout",
     "output_type": "stream",
     "text": [
      "2\n",
      "6\n",
      "10\n"
     ]
    }
   ],
   "source": [
    "for (t1,t2) in l:\n",
    "    print(t1)\n",
    "    "
   ]
  },
  {
   "cell_type": "code",
   "execution_count": 173,
   "metadata": {},
   "outputs": [
    {
     "name": "stdout",
     "output_type": "stream",
     "text": [
      "1\n",
      "2\n",
      "3\n"
     ]
    }
   ],
   "source": [
    "#atribuição multipla\n",
    "tupla = (1,2,3)\n",
    "n1, n2, n3 = tupla\n",
    "print(n1)\n",
    "print(n2)\n",
    "print(n3)"
   ]
  },
  {
   "attachments": {},
   "cell_type": "markdown",
   "metadata": {},
   "source": [
    "Legal! Com as tuplas em uma seqüência, podemos acessar os itens dentro deles por meio de desembalagem! A razão pela qual isso é importante é porque muitos objetos entregarão seus iterables através de tuplas. Vamos começar a explorar a iteração através de Dictionaries para explorar isso ainda mais!"
   ]
  },
  {
   "cell_type": "code",
   "execution_count": 177,
   "metadata": {},
   "outputs": [
    {
     "name": "stdout",
     "output_type": "stream",
     "text": [
      "dict_items([('k1', 1), ('k2', 2), ('k3', 3)])\n",
      "k : 1\n",
      "k : 2\n",
      "k : 3\n"
     ]
    }
   ],
   "source": [
    "#dado o dicionario d\n",
    "d = {'k1':1,'k2':2,'k3':3}\n",
    "\n",
    "print(d.items())\n",
    "\n",
    "#percorrendo os itens\n",
    "for chave,item in d:\n",
    "    print(chave+\" : \"+item)"
   ]
  },
  {
   "attachments": {},
   "cell_type": "markdown",
   "metadata": {},
   "source": [
    "Observe como isso produz apenas chaves. Então, como podemos obter os valores? Ou as chaves e os valores?\n",
    "\n",
    "#### Itens() \n",
    "\n",
    "Você deve usar \".items()\" para iterar através das chaves e valores de um dicionário. Por exemplo:\n"
   ]
  },
  {
   "cell_type": "code",
   "execution_count": 178,
   "metadata": {},
   "outputs": [
    {
     "name": "stdout",
     "output_type": "stream",
     "text": [
      "k1\n",
      "1\n",
      "k2\n",
      "2\n",
      "k3\n",
      "3\n"
     ]
    }
   ],
   "source": [
    "# For Python 3\n",
    "for k,v in d.items():\n",
    "    print(k)\n",
    "    print(v)"
   ]
  },
  {
   "attachments": {},
   "cell_type": "markdown",
   "metadata": {},
   "source": [
    "Aprendemos a usar para loops para iterar através de tuplas, listas, strings e dicionários. Será uma ferramenta importante para nós, portanto, certifique-se de conhecê-lo bem e compreende os exemplos acima.\n",
    "\n",
    "## While\n",
    "\n",
    "A instrução while em Python é uma das formas mais gerais de executar iterações. Uma instrução while executará repetidamente uma única declaração ou grupo de instruções, desde que a condição seja verdadeira. A razão pela qual é chamado de \"loop\" é porque as instruções de código são roteadas repetidamente até que a condição não seja mais atendida.\n",
    "\n",
    "O formato geral de um loop while é: \n",
    "\n",
    "while teste: declaração de código \n",
    "\n",
    "else: declarações de código final\n",
    "\n",
    "Olhemos alguns simples do while em ação.\n"
   ]
  },
  {
   "cell_type": "code",
   "execution_count": 179,
   "metadata": {},
   "outputs": [
    {
     "name": "stdout",
     "output_type": "stream",
     "text": [
      "x is currently:  0\n",
      " x is still less than 10, adding 1 to x\n",
      "x is currently:  1\n",
      " x is still less than 10, adding 1 to x\n",
      "x is currently:  2\n",
      " x is still less than 10, adding 1 to x\n",
      "x is currently:  3\n",
      " x is still less than 10, adding 1 to x\n",
      "x is currently:  4\n",
      " x is still less than 10, adding 1 to x\n",
      "x is currently:  5\n",
      " x is still less than 10, adding 1 to x\n",
      "x is currently:  6\n",
      " x is still less than 10, adding 1 to x\n",
      "x is currently:  7\n",
      " x is still less than 10, adding 1 to x\n",
      "x is currently:  8\n",
      " x is still less than 10, adding 1 to x\n",
      "x is currently:  9\n",
      " x is still less than 10, adding 1 to x\n"
     ]
    }
   ],
   "source": [
    "x = 0\n",
    "while x < 10:\n",
    "    print('x is currently: ', x)\n",
    "    print(' x is still less than 10, adding 1 to x')\n",
    "    x += 1"
   ]
  },
  {
   "attachments": {},
   "cell_type": "markdown",
   "metadata": {},
   "source": [
    "Observe quantas vezes as declarações de impressão ocorreram e como o while continuou até a condição True deixasse de ser verdadeira, que ocorreu após x == 10. É importante notar que, uma vez que isso ocorreu, o código parou. Vamos ver como podemos adicionar uma outra afirmação:"
   ]
  },
  {
   "cell_type": "code",
   "execution_count": 180,
   "metadata": {},
   "outputs": [
    {
     "name": "stdout",
     "output_type": "stream",
     "text": [
      "x is currently:  0\n",
      " x is still less than 10, adding 1 to x\n",
      "x is currently:  1\n",
      " x is still less than 10, adding 1 to x\n",
      "x is currently:  2\n",
      " x is still less than 10, adding 1 to x\n",
      "x is currently:  3\n",
      " x is still less than 10, adding 1 to x\n",
      "x is currently:  4\n",
      " x is still less than 10, adding 1 to x\n",
      "x is currently:  5\n",
      " x is still less than 10, adding 1 to x\n",
      "x is currently:  6\n",
      " x is still less than 10, adding 1 to x\n",
      "x is currently:  7\n",
      " x is still less than 10, adding 1 to x\n",
      "x is currently:  8\n",
      " x is still less than 10, adding 1 to x\n",
      "x is currently:  9\n",
      " x is still less than 10, adding 1 to x\n",
      "All Done!\n"
     ]
    }
   ],
   "source": [
    "x = 0\n",
    "while x < 10:\n",
    "    print('x is currently: ',x)\n",
    "    print(' x is still less than 10, adding 1 to x')\n",
    "    x+=1\n",
    "else:\n",
    "    print('All Done!')"
   ]
  },
  {
   "attachments": {},
   "cell_type": "markdown",
   "metadata": {},
   "source": [
    "#### break, continue, pass\n",
    "\n",
    "Podemos usar as declarações break, continue e pass em nossos loops para adicionar funcionalidades adicionais para vários casos. As três declarações são definidas por:\n",
    "\n",
    "break: Para o loop continue: Vai para o próximo loop \n",
    "\n",
    "pass: Não faz nada \n",
    "\n",
    "Pensando nas declarações break e continue, o formato geral do loop while se parece com isto:\n",
    "\n",
    "while test: código \n",
    "\n",
    "if test: break \n",
    "if test: continue else:\n",
    "\n",
    "Vamos ver alguns exemplos!"
   ]
  },
  {
   "cell_type": "code",
   "execution_count": 181,
   "metadata": {},
   "outputs": [
    {
     "name": "stdout",
     "output_type": "stream",
     "text": [
      "x is currently:  0\n",
      " x is still less than 10, adding 1 to x\n",
      "continuing...\n",
      "x is currently:  1\n",
      " x is still less than 10, adding 1 to x\n",
      "continuing...\n",
      "x is currently:  2\n",
      " x is still less than 10, adding 1 to x\n",
      "x==3\n",
      "x is currently:  3\n",
      " x is still less than 10, adding 1 to x\n",
      "continuing...\n",
      "x is currently:  4\n",
      " x is still less than 10, adding 1 to x\n",
      "continuing...\n",
      "x is currently:  5\n",
      " x is still less than 10, adding 1 to x\n",
      "continuing...\n",
      "x is currently:  6\n",
      " x is still less than 10, adding 1 to x\n",
      "continuing...\n",
      "x is currently:  7\n",
      " x is still less than 10, adding 1 to x\n",
      "continuing...\n",
      "x is currently:  8\n",
      " x is still less than 10, adding 1 to x\n",
      "continuing...\n",
      "x is currently:  9\n",
      " x is still less than 10, adding 1 to x\n",
      "continuing...\n"
     ]
    }
   ],
   "source": [
    "x = 0\n",
    "while x < 10:\n",
    "    print('x is currently: ', x)\n",
    "    print(' x is still less than 10, adding 1 to x')\n",
    "    x+=1\n",
    "    if x==3:\n",
    "        print('x==3')\n",
    "    else:\n",
    "        print('continuing...')\n",
    "        continue"
   ]
  },
  {
   "attachments": {},
   "cell_type": "markdown",
   "metadata": {},
   "source": [
    "Observe como temos uma declaração impressa quando x == 3 e continuamos imprimindo enquanto continuamos através do while. Vamos fazer uma pausa uma vez x == 3 e ver se o resultado faz sentido:"
   ]
  },
  {
   "cell_type": "code",
   "execution_count": 182,
   "metadata": {},
   "outputs": [
    {
     "name": "stdout",
     "output_type": "stream",
     "text": [
      "x is currently:  0\n",
      " x is still less than 10, adding 1 to x\n",
      "continuing...\n",
      "x is currently:  1\n",
      " x is still less than 10, adding 1 to x\n",
      "continuing...\n",
      "x is currently:  2\n",
      " x is still less than 10, adding 1 to x\n",
      "Breaking because x==3\n"
     ]
    }
   ],
   "source": [
    "x = 0\n",
    "while x < 10:\n",
    "    print('x is currently: ',x)\n",
    "    print(' x is still less than 10, adding 1 to x')\n",
    "    x+=1\n",
    "    if x ==3:\n",
    "        print('Breaking because x==3')\n",
    "        break\n",
    "    else:\n",
    "        print('continuing...')\n",
    "    continue"
   ]
  },
  {
   "attachments": {},
   "cell_type": "markdown",
   "metadata": {},
   "source": [
    "**Uma observação importante! É possível criar um ciclo de execução infinita com instruções while. Por exemplo:**\n",
    "\n",
    "**NÃO RODE O CÓDIGO ABAIXO**"
   ]
  },
  {
   "cell_type": "code",
   "execution_count": null,
   "metadata": {},
   "outputs": [],
   "source": [
    "# NÃO RODE ESTE CÓDIGO!\n",
    "while True:\n",
    "    print('Uh Oh infinite Loop!')"
   ]
  },
  {
   "attachments": {},
   "cell_type": "markdown",
   "metadata": {},
   "source": [
    "## Functions\n",
    "\n",
    "### Introdução às Funções\n",
    "\n",
    "Esta aula consistirá em explicar o que é uma função em Python e como criar uma. As\n",
    "funções serão um dos nossos principais blocos de construção quando construiremos\n",
    "quantidades maiores e maiores de código para resolver problemas.\n",
    "\n",
    "### Então, o que é uma função?\n",
    "\n",
    "Formalmente, uma função é um dispositivo útil que agrupa um conjunto de instruções para\n",
    "que elas possam ser executadas mais de uma vez. Eles também podem nos permitir\n",
    "especificar parâmetros que possam servir como entradas para as funções.\n",
    "\n",
    "Em um nível mais fundamental, as funções nos permitem não ter que repetidamente\n",
    "escrever o mesmo código repetidas vezes. Se você lembrar de volta às lições em strings e\n",
    "listas, lembre-se de que usamos uma função len() para obter o comprimento de uma string.\n",
    "Uma vez que verificar o comprimento de uma seqüência é uma tarefa comum, você\n",
    "provavelmente vai querer escrever uma função que pode fazer isso repetidamente.\n",
    "\n",
    "As funções serão um dos níveis mais básicos de código de reutilização em Python, e\n",
    "também nos permitirá começar a pensar no design do programa.\n",
    "\n",
    "### def\n",
    "\n",
    "Vamos ver como construir a sintaxe de uma função em Python. Ela tem a seguinte forma:\n"
   ]
  },
  {
   "cell_type": "code",
   "execution_count": null,
   "metadata": {},
   "outputs": [],
   "source": [
    "def name_of_function(arg1,arg2):\n",
    "    #faça alguma coisa aqui\n",
    "    return #retorne algum resultado"
   ]
  },
  {
   "attachments": {},
   "cell_type": "markdown",
   "metadata": {},
   "source": [
    "Começamos com def, seguido do nome da função. Tente manter os nomes relevantes, por\n",
    "exemplo len() é um bom nome para uma função length(). Também tenha cuidado com os\n",
    "nomes, você não gostaria de chamar uma função do mesmo nome que uma função interna\n",
    "em Python (como len).\n",
    "\n",
    "Em seguida, venha um par de parênteses com vários argumentos separados por uma\n",
    "vírgula. Esses argumentos são as entradas para sua função. Você poderá usar essas\n",
    "entradas em sua função e fazer referência a elas. Depois disso, você coloca dois pontos.\n",
    "\n",
    "Agora, aqui é o passo importante, você deve identar para começar o código dentro de sua\n",
    "função corretamente. Python faz uso de espaço em branco para organizar o código. Muitas\n",
    "outras linguagens de programação não fazem isso, então tenha isso em mente.\n",
    "\n",
    "Em seguida, você verá o doc-string, é aqui que você escreve uma descrição básica da\n",
    "função. Usando iPython e iPython Notebooks, você será capaz de ler estes documentos\n",
    "pressionando Shift + Tab após um nome de função. Documentações não são necessárias\n",
    "para funções simples, mas é uma boa prática colocá-las para que você ou outras pessoas\n",
    "possam facilmente entender o código que você escreve.\n",
    "\n",
    "Depois de tudo isso, você começa a escrever o código que deseja executar.\n",
    "\n",
    "A melhor maneira de aprender funções é através de exemplos. Então, vamos tentar passar\n",
    "por exemplos que se relacionam com os vários objetos e estruturas de dados que\n",
    "aprendemos antes.\n",
    "\n",
    "### Exemplo 1: Uma função simples de 'Olá'"
   ]
  },
  {
   "cell_type": "code",
   "execution_count": null,
   "metadata": {},
   "outputs": [],
   "source": [
    "def say_hello():\n",
    "    print('hello!')"
   ]
  },
  {
   "cell_type": "code",
   "execution_count": null,
   "metadata": {},
   "outputs": [],
   "source": [
    "say_hello()"
   ]
  },
  {
   "attachments": {},
   "cell_type": "markdown",
   "metadata": {},
   "source": [
    "### Exemplo 2 - Uma função de saudação simples\n",
    "\n",
    "Vamos escrever uma função que cumprimenta pessoas com seu nome."
   ]
  },
  {
   "cell_type": "code",
   "execution_count": 1,
   "metadata": {},
   "outputs": [],
   "source": [
    "def greeting(name):\n",
    "    print('Hello, %s' %name)"
   ]
  },
  {
   "cell_type": "code",
   "execution_count": 2,
   "metadata": {},
   "outputs": [
    {
     "name": "stdout",
     "output_type": "stream",
     "text": [
      "Hello, Rodrigo\n"
     ]
    }
   ],
   "source": [
    "greeting('Rodrigo')"
   ]
  },
  {
   "attachments": {},
   "cell_type": "markdown",
   "metadata": {},
   "source": [
    "### Usando o Return\n",
    "\n",
    "Vamos ver um exemplo que usa uma declaração de retorno. Return permite uma função para\n",
    "retornar um resultado que pode ser armazenado como uma variável, ou usado de qualquer\n",
    "maneira que um usuário deseje.\n",
    "\n",
    "### Exemplo 3: função de adição"
   ]
  },
  {
   "cell_type": "code",
   "execution_count": 4,
   "metadata": {},
   "outputs": [],
   "source": [
    "def add_num(num1, num2):\n",
    "    return num1+num2"
   ]
  },
  {
   "cell_type": "code",
   "execution_count": null,
   "metadata": {},
   "outputs": [],
   "source": [
    "add_num(4,6)"
   ]
  },
  {
   "cell_type": "code",
   "execution_count": null,
   "metadata": {},
   "outputs": [],
   "source": [
    "resultado = add_num(100,50)\n",
    "print(resultado)"
   ]
  },
  {
   "attachments": {},
   "cell_type": "markdown",
   "metadata": {},
   "source": [
    "O que acontece se inserirmos duas Strings?"
   ]
  },
  {
   "cell_type": "code",
   "execution_count": null,
   "metadata": {},
   "outputs": [],
   "source": [
    "print(add_num('um','dois'))"
   ]
  },
  {
   "attachments": {},
   "cell_type": "markdown",
   "metadata": {},
   "source": [
    "Note que, porque não declaramos tipos de variáveis em Python, esta função pode ser usada para adicionar números ou seqüências em conjunto! \n",
    "\n",
    "Mais tarde, aprenderemos sobre a\n",
    "adição de verificações para garantir que um usuário coloque os argumentos corretos em\n",
    "uma função.\n",
    "\n",
    "Vamos também começar a usar as instruções break, continue e pass no nosso código. Nós\n",
    "apresentamos estes durante a palestra de tempo.\n",
    "\n",
    "Finalmente, vamos passar por um exemplo completo de criar uma função para verificar se\n",
    "um número é primo (um exercício de entrevista comum).\n",
    "\n",
    "Nós sabemos que um número é primordial se esse número é apenas divisível em 1 e em si\n",
    "mesmo. Vamos escrever a nossa primeira versão da função para verificar todos os números\n",
    "de 1 a N e executar verificações de módulo."
   ]
  },
  {
   "cell_type": "code",
   "execution_count": 9,
   "metadata": {},
   "outputs": [],
   "source": [
    "def is_prime(num):\n",
    "    '''\n",
    "    Método para checar se é primo\n",
    "    '''\n",
    "    for n in range(2,num):\n",
    "        if num % n == 0:\n",
    "            print('Não primo')\n",
    "            break\n",
    "        else: # Se o módulo nunca for zero, é primo\n",
    "            print('Primo')"
   ]
  },
  {
   "cell_type": "code",
   "execution_count": 10,
   "metadata": {},
   "outputs": [
    {
     "name": "stdout",
     "output_type": "stream",
     "text": [
      "Não primo\n"
     ]
    }
   ],
   "source": [
    "is_prime(16)"
   ]
  },
  {
   "attachments": {},
   "cell_type": "markdown",
   "metadata": {},
   "source": [
    "Observe como quebramos o código após a declaração de impressão! Na verdade, podemos\n",
    "melhorar isso ao verificar somente a raiz quadrada do número-alvo, também podemos\n",
    "ignorar todos os números pares depois de verificar 2. Também mudaremos para retornar um\n",
    "valor booleano para obter um exemplo de usar declarações de retorno:"
   ]
  },
  {
   "cell_type": "code",
   "execution_count": 11,
   "metadata": {},
   "outputs": [],
   "source": [
    "import math\n",
    "\n",
    "def is_prime(num):\n",
    "    '''\n",
    "    Melhor método para checar primos\n",
    "    '''\n",
    "    if num % 2 == 0 and num > 2:\n",
    "        return False\n",
    "    \n",
    "    for i in range(3, int(math.sqrt(num)) + 1, 2):\n",
    "        if num % i == 0:\n",
    "            return False\n",
    "    return True"
   ]
  },
  {
   "cell_type": "code",
   "execution_count": 12,
   "metadata": {},
   "outputs": [
    {
     "data": {
      "text/plain": [
       "False"
      ]
     },
     "execution_count": 12,
     "metadata": {},
     "output_type": "execute_result"
    }
   ],
   "source": [
    "is_prime(14)"
   ]
  },
  {
   "attachments": {},
   "cell_type": "markdown",
   "metadata": {},
   "source": [
    "Ótimo! Você deve agora ter uma compreensão básica sobre como criar suas próprias\n",
    "funções para salvar-se de escrever repetidamente o código!"
   ]
  }
 ],
 "metadata": {
  "kernelspec": {
   "display_name": "base",
   "language": "python",
   "name": "python3"
  },
  "language_info": {
   "codemirror_mode": {
    "name": "ipython",
    "version": 3
   },
   "file_extension": ".py",
   "mimetype": "text/x-python",
   "name": "python",
   "nbconvert_exporter": "python",
   "pygments_lexer": "ipython3",
   "version": "3.9.13"
  },
  "orig_nbformat": 4,
  "vscode": {
   "interpreter": {
    "hash": "0fda60eb319fac8ebfcb14c2fbc9a4c8b1cdf0fbb0837cf486a0f7cad639c07e"
   }
  }
 },
 "nbformat": 4,
 "nbformat_minor": 2
}
